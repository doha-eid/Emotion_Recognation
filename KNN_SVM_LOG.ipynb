{
 "cells": [
  {
   "cell_type": "code",
   "execution_count": 2,
   "metadata": {},
   "outputs": [],
   "source": [
    "import numpy as np\n",
    "import pandas as pd\n",
    "from sklearn.model_selection import train_test_split\n",
    "from sklearn.neighbors import KNeighborsClassifier\n",
    "import matplotlib.pyplot as plt\n",
    "from sklearn.metrics import confusion_matrix\n",
    "from sklearn import svm\n",
    "from sklearn.datasets import make_classification\n",
    "from sklearn.metrics import accuracy_score, precision_score, recall_score, f1_score\n",
    "from sklearn.feature_selection import mutual_info_classif\n",
    "from sklearn.linear_model import LogisticRegression"
   ]
  },
  {
   "attachments": {},
   "cell_type": "markdown",
   "metadata": {},
   "source": [
    "## Read the data"
   ]
  },
  {
   "cell_type": "code",
   "execution_count": 3,
   "metadata": {},
   "outputs": [],
   "source": [
    "# Read the data\n",
    "data = pd.read_csv('Final_Data.csv')"
   ]
  },
  {
   "cell_type": "code",
   "execution_count": 4,
   "metadata": {},
   "outputs": [],
   "source": [
    "data.drop(['Unnamed: 0'], axis=1, inplace=True)"
   ]
  },
  {
   "cell_type": "code",
   "execution_count": 5,
   "metadata": {},
   "outputs": [
    {
     "data": {
      "text/html": [
       "<div>\n",
       "<style scoped>\n",
       "    .dataframe tbody tr th:only-of-type {\n",
       "        vertical-align: middle;\n",
       "    }\n",
       "\n",
       "    .dataframe tbody tr th {\n",
       "        vertical-align: top;\n",
       "    }\n",
       "\n",
       "    .dataframe thead th {\n",
       "        text-align: right;\n",
       "    }\n",
       "</style>\n",
       "<table border=\"1\" class=\"dataframe\">\n",
       "  <thead>\n",
       "    <tr style=\"text-align: right;\">\n",
       "      <th></th>\n",
       "      <th>psdbeta_9</th>\n",
       "      <th>psdbeta_13</th>\n",
       "      <th>psdtheta_13</th>\n",
       "      <th>psdtheta_3</th>\n",
       "      <th>psdalpha_9</th>\n",
       "      <th>psdalpha_3</th>\n",
       "      <th>psdalpha_7</th>\n",
       "      <th>psdbeta_5</th>\n",
       "      <th>psdalpha_13</th>\n",
       "      <th>psdalpha_8</th>\n",
       "      <th>...</th>\n",
       "      <th>HRV_CVI</th>\n",
       "      <th>HRV_Prc80NN</th>\n",
       "      <th>HRV_HF</th>\n",
       "      <th>HRV_Ca</th>\n",
       "      <th>HRV_LFHF</th>\n",
       "      <th>HRV_SD1a</th>\n",
       "      <th>HRV_S</th>\n",
       "      <th>HRV_MadNN</th>\n",
       "      <th>HRV_SD2a</th>\n",
       "      <th>target</th>\n",
       "    </tr>\n",
       "  </thead>\n",
       "  <tbody>\n",
       "    <tr>\n",
       "      <th>0</th>\n",
       "      <td>-0.353098</td>\n",
       "      <td>-0.419732</td>\n",
       "      <td>-0.343952</td>\n",
       "      <td>-0.475254</td>\n",
       "      <td>-0.373330</td>\n",
       "      <td>-0.468150</td>\n",
       "      <td>-0.261720</td>\n",
       "      <td>-0.279274</td>\n",
       "      <td>-0.350667</td>\n",
       "      <td>-0.504424</td>\n",
       "      <td>...</td>\n",
       "      <td>1.011948</td>\n",
       "      <td>1.005051</td>\n",
       "      <td>3.627621</td>\n",
       "      <td>1.049158</td>\n",
       "      <td>0.410145</td>\n",
       "      <td>1.077186</td>\n",
       "      <td>1.123119</td>\n",
       "      <td>1.000000</td>\n",
       "      <td>1.086576</td>\n",
       "      <td>7</td>\n",
       "    </tr>\n",
       "    <tr>\n",
       "      <th>1</th>\n",
       "      <td>-0.164130</td>\n",
       "      <td>-0.175393</td>\n",
       "      <td>-0.111932</td>\n",
       "      <td>0.302383</td>\n",
       "      <td>0.038875</td>\n",
       "      <td>0.258150</td>\n",
       "      <td>-0.161049</td>\n",
       "      <td>-0.169434</td>\n",
       "      <td>-0.116607</td>\n",
       "      <td>0.018493</td>\n",
       "      <td>...</td>\n",
       "      <td>0.939026</td>\n",
       "      <td>0.894635</td>\n",
       "      <td>0.450490</td>\n",
       "      <td>0.992888</td>\n",
       "      <td>0.572625</td>\n",
       "      <td>0.643784</td>\n",
       "      <td>0.536757</td>\n",
       "      <td>0.843750</td>\n",
       "      <td>0.835036</td>\n",
       "      <td>0</td>\n",
       "    </tr>\n",
       "    <tr>\n",
       "      <th>2</th>\n",
       "      <td>-0.027737</td>\n",
       "      <td>-0.117177</td>\n",
       "      <td>-0.128325</td>\n",
       "      <td>0.063157</td>\n",
       "      <td>0.033106</td>\n",
       "      <td>0.057745</td>\n",
       "      <td>-0.132559</td>\n",
       "      <td>-0.149021</td>\n",
       "      <td>-0.128255</td>\n",
       "      <td>-0.093871</td>\n",
       "      <td>...</td>\n",
       "      <td>0.988428</td>\n",
       "      <td>1.027902</td>\n",
       "      <td>4.489243</td>\n",
       "      <td>0.753055</td>\n",
       "      <td>0.717908</td>\n",
       "      <td>1.020287</td>\n",
       "      <td>0.888804</td>\n",
       "      <td>0.923684</td>\n",
       "      <td>0.762874</td>\n",
       "      <td>2</td>\n",
       "    </tr>\n",
       "    <tr>\n",
       "      <th>3</th>\n",
       "      <td>-0.210938</td>\n",
       "      <td>-0.311654</td>\n",
       "      <td>-0.275669</td>\n",
       "      <td>-0.067104</td>\n",
       "      <td>-0.191371</td>\n",
       "      <td>-0.068218</td>\n",
       "      <td>-0.194850</td>\n",
       "      <td>-0.230109</td>\n",
       "      <td>-0.279672</td>\n",
       "      <td>-0.325007</td>\n",
       "      <td>...</td>\n",
       "      <td>0.957135</td>\n",
       "      <td>0.948635</td>\n",
       "      <td>0.717087</td>\n",
       "      <td>0.785177</td>\n",
       "      <td>1.222864</td>\n",
       "      <td>0.716231</td>\n",
       "      <td>0.652118</td>\n",
       "      <td>0.812500</td>\n",
       "      <td>0.726417</td>\n",
       "      <td>5</td>\n",
       "    </tr>\n",
       "    <tr>\n",
       "      <th>4</th>\n",
       "      <td>0.203095</td>\n",
       "      <td>0.125982</td>\n",
       "      <td>0.002496</td>\n",
       "      <td>0.314590</td>\n",
       "      <td>0.208960</td>\n",
       "      <td>0.301284</td>\n",
       "      <td>-0.017967</td>\n",
       "      <td>-0.054181</td>\n",
       "      <td>0.011464</td>\n",
       "      <td>0.066537</td>\n",
       "      <td>...</td>\n",
       "      <td>1.051062</td>\n",
       "      <td>1.075500</td>\n",
       "      <td>1.381814</td>\n",
       "      <td>0.980383</td>\n",
       "      <td>0.086450</td>\n",
       "      <td>1.428653</td>\n",
       "      <td>1.643596</td>\n",
       "      <td>1.238095</td>\n",
       "      <td>1.264587</td>\n",
       "      <td>1</td>\n",
       "    </tr>\n",
       "    <tr>\n",
       "      <th>...</th>\n",
       "      <td>...</td>\n",
       "      <td>...</td>\n",
       "      <td>...</td>\n",
       "      <td>...</td>\n",
       "      <td>...</td>\n",
       "      <td>...</td>\n",
       "      <td>...</td>\n",
       "      <td>...</td>\n",
       "      <td>...</td>\n",
       "      <td>...</td>\n",
       "      <td>...</td>\n",
       "      <td>...</td>\n",
       "      <td>...</td>\n",
       "      <td>...</td>\n",
       "      <td>...</td>\n",
       "      <td>...</td>\n",
       "      <td>...</td>\n",
       "      <td>...</td>\n",
       "      <td>...</td>\n",
       "      <td>...</td>\n",
       "      <td>...</td>\n",
       "    </tr>\n",
       "    <tr>\n",
       "      <th>409</th>\n",
       "      <td>-0.428960</td>\n",
       "      <td>0.063415</td>\n",
       "      <td>0.175457</td>\n",
       "      <td>-0.282586</td>\n",
       "      <td>-0.368012</td>\n",
       "      <td>-0.281040</td>\n",
       "      <td>0.072221</td>\n",
       "      <td>-0.314611</td>\n",
       "      <td>0.173249</td>\n",
       "      <td>-0.318572</td>\n",
       "      <td>...</td>\n",
       "      <td>1.006056</td>\n",
       "      <td>0.965517</td>\n",
       "      <td>1.542216</td>\n",
       "      <td>1.377285</td>\n",
       "      <td>0.475373</td>\n",
       "      <td>1.126089</td>\n",
       "      <td>1.069732</td>\n",
       "      <td>1.225000</td>\n",
       "      <td>1.399569</td>\n",
       "      <td>4</td>\n",
       "    </tr>\n",
       "    <tr>\n",
       "      <th>410</th>\n",
       "      <td>-0.441018</td>\n",
       "      <td>-0.490378</td>\n",
       "      <td>-0.397149</td>\n",
       "      <td>-0.452527</td>\n",
       "      <td>-0.375395</td>\n",
       "      <td>-0.461703</td>\n",
       "      <td>-0.363734</td>\n",
       "      <td>-0.305926</td>\n",
       "      <td>-0.405788</td>\n",
       "      <td>-0.440295</td>\n",
       "      <td>...</td>\n",
       "      <td>1.093039</td>\n",
       "      <td>1.055042</td>\n",
       "      <td>45.577436</td>\n",
       "      <td>1.359336</td>\n",
       "      <td>0.589387</td>\n",
       "      <td>1.702592</td>\n",
       "      <td>2.730477</td>\n",
       "      <td>0.805556</td>\n",
       "      <td>1.437567</td>\n",
       "      <td>5</td>\n",
       "    </tr>\n",
       "    <tr>\n",
       "      <th>411</th>\n",
       "      <td>-0.237420</td>\n",
       "      <td>-0.042684</td>\n",
       "      <td>-0.018424</td>\n",
       "      <td>0.225323</td>\n",
       "      <td>-0.196020</td>\n",
       "      <td>0.234515</td>\n",
       "      <td>-0.293675</td>\n",
       "      <td>-0.084264</td>\n",
       "      <td>-0.020970</td>\n",
       "      <td>-0.206560</td>\n",
       "      <td>...</td>\n",
       "      <td>1.043203</td>\n",
       "      <td>1.000000</td>\n",
       "      <td>1.232263</td>\n",
       "      <td>1.006177</td>\n",
       "      <td>1.095624</td>\n",
       "      <td>1.101661</td>\n",
       "      <td>1.555066</td>\n",
       "      <td>1.500000</td>\n",
       "      <td>1.344214</td>\n",
       "      <td>1</td>\n",
       "    </tr>\n",
       "    <tr>\n",
       "      <th>412</th>\n",
       "      <td>-0.417094</td>\n",
       "      <td>-0.480054</td>\n",
       "      <td>-0.405573</td>\n",
       "      <td>-0.238502</td>\n",
       "      <td>-0.356731</td>\n",
       "      <td>-0.241715</td>\n",
       "      <td>-0.260885</td>\n",
       "      <td>-0.278179</td>\n",
       "      <td>-0.413550</td>\n",
       "      <td>-0.372264</td>\n",
       "      <td>...</td>\n",
       "      <td>1.041377</td>\n",
       "      <td>0.985000</td>\n",
       "      <td>2.565754</td>\n",
       "      <td>0.875462</td>\n",
       "      <td>0.771653</td>\n",
       "      <td>1.052785</td>\n",
       "      <td>1.565247</td>\n",
       "      <td>1.181818</td>\n",
       "      <td>1.322039</td>\n",
       "      <td>8</td>\n",
       "    </tr>\n",
       "    <tr>\n",
       "      <th>413</th>\n",
       "      <td>-0.425324</td>\n",
       "      <td>-0.274331</td>\n",
       "      <td>-0.109047</td>\n",
       "      <td>-0.421094</td>\n",
       "      <td>-0.355026</td>\n",
       "      <td>-0.430512</td>\n",
       "      <td>0.582890</td>\n",
       "      <td>-0.297268</td>\n",
       "      <td>-0.123146</td>\n",
       "      <td>-0.425974</td>\n",
       "      <td>...</td>\n",
       "      <td>1.015376</td>\n",
       "      <td>0.999177</td>\n",
       "      <td>5.362526</td>\n",
       "      <td>1.038337</td>\n",
       "      <td>1.669570</td>\n",
       "      <td>0.990997</td>\n",
       "      <td>1.183212</td>\n",
       "      <td>0.983908</td>\n",
       "      <td>1.174618</td>\n",
       "      <td>0</td>\n",
       "    </tr>\n",
       "  </tbody>\n",
       "</table>\n",
       "<p>414 rows × 57 columns</p>\n",
       "</div>"
      ],
      "text/plain": [
       "     psdbeta_9  psdbeta_13  psdtheta_13  psdtheta_3  psdalpha_9  psdalpha_3  \\\n",
       "0    -0.353098   -0.419732    -0.343952   -0.475254   -0.373330   -0.468150   \n",
       "1    -0.164130   -0.175393    -0.111932    0.302383    0.038875    0.258150   \n",
       "2    -0.027737   -0.117177    -0.128325    0.063157    0.033106    0.057745   \n",
       "3    -0.210938   -0.311654    -0.275669   -0.067104   -0.191371   -0.068218   \n",
       "4     0.203095    0.125982     0.002496    0.314590    0.208960    0.301284   \n",
       "..         ...         ...          ...         ...         ...         ...   \n",
       "409  -0.428960    0.063415     0.175457   -0.282586   -0.368012   -0.281040   \n",
       "410  -0.441018   -0.490378    -0.397149   -0.452527   -0.375395   -0.461703   \n",
       "411  -0.237420   -0.042684    -0.018424    0.225323   -0.196020    0.234515   \n",
       "412  -0.417094   -0.480054    -0.405573   -0.238502   -0.356731   -0.241715   \n",
       "413  -0.425324   -0.274331    -0.109047   -0.421094   -0.355026   -0.430512   \n",
       "\n",
       "     psdalpha_7  psdbeta_5  psdalpha_13  psdalpha_8  ...   HRV_CVI  \\\n",
       "0     -0.261720  -0.279274    -0.350667   -0.504424  ...  1.011948   \n",
       "1     -0.161049  -0.169434    -0.116607    0.018493  ...  0.939026   \n",
       "2     -0.132559  -0.149021    -0.128255   -0.093871  ...  0.988428   \n",
       "3     -0.194850  -0.230109    -0.279672   -0.325007  ...  0.957135   \n",
       "4     -0.017967  -0.054181     0.011464    0.066537  ...  1.051062   \n",
       "..          ...        ...          ...         ...  ...       ...   \n",
       "409    0.072221  -0.314611     0.173249   -0.318572  ...  1.006056   \n",
       "410   -0.363734  -0.305926    -0.405788   -0.440295  ...  1.093039   \n",
       "411   -0.293675  -0.084264    -0.020970   -0.206560  ...  1.043203   \n",
       "412   -0.260885  -0.278179    -0.413550   -0.372264  ...  1.041377   \n",
       "413    0.582890  -0.297268    -0.123146   -0.425974  ...  1.015376   \n",
       "\n",
       "     HRV_Prc80NN     HRV_HF    HRV_Ca  HRV_LFHF  HRV_SD1a     HRV_S  \\\n",
       "0       1.005051   3.627621  1.049158  0.410145  1.077186  1.123119   \n",
       "1       0.894635   0.450490  0.992888  0.572625  0.643784  0.536757   \n",
       "2       1.027902   4.489243  0.753055  0.717908  1.020287  0.888804   \n",
       "3       0.948635   0.717087  0.785177  1.222864  0.716231  0.652118   \n",
       "4       1.075500   1.381814  0.980383  0.086450  1.428653  1.643596   \n",
       "..           ...        ...       ...       ...       ...       ...   \n",
       "409     0.965517   1.542216  1.377285  0.475373  1.126089  1.069732   \n",
       "410     1.055042  45.577436  1.359336  0.589387  1.702592  2.730477   \n",
       "411     1.000000   1.232263  1.006177  1.095624  1.101661  1.555066   \n",
       "412     0.985000   2.565754  0.875462  0.771653  1.052785  1.565247   \n",
       "413     0.999177   5.362526  1.038337  1.669570  0.990997  1.183212   \n",
       "\n",
       "     HRV_MadNN  HRV_SD2a  target  \n",
       "0     1.000000  1.086576       7  \n",
       "1     0.843750  0.835036       0  \n",
       "2     0.923684  0.762874       2  \n",
       "3     0.812500  0.726417       5  \n",
       "4     1.238095  1.264587       1  \n",
       "..         ...       ...     ...  \n",
       "409   1.225000  1.399569       4  \n",
       "410   0.805556  1.437567       5  \n",
       "411   1.500000  1.344214       1  \n",
       "412   1.181818  1.322039       8  \n",
       "413   0.983908  1.174618       0  \n",
       "\n",
       "[414 rows x 57 columns]"
      ]
     },
     "execution_count": 5,
     "metadata": {},
     "output_type": "execute_result"
    }
   ],
   "source": [
    "data"
   ]
  },
  {
   "cell_type": "code",
   "execution_count": 6,
   "metadata": {},
   "outputs": [],
   "source": [
    "y = data.target\n",
    "X = data.drop('target' , axis = 1)"
   ]
  },
  {
   "attachments": {},
   "cell_type": "markdown",
   "metadata": {},
   "source": [
    "## Splitting the data"
   ]
  },
  {
   "cell_type": "code",
   "execution_count": 7,
   "metadata": {},
   "outputs": [],
   "source": [
    "X_train, X_test, y_train, y_test = train_test_split(X, y, test_size = 0.3, random_state = 42)"
   ]
  },
  {
   "cell_type": "code",
   "execution_count": 8,
   "metadata": {},
   "outputs": [],
   "source": [
    "y_test = np.array(y_test)"
   ]
  },
  {
   "cell_type": "code",
   "execution_count": 9,
   "metadata": {},
   "outputs": [],
   "source": [
    "# Function to evaluate the model\n",
    "def Evaluate (y_test, prediction):\n",
    "    accuracy = accuracy_score(y_test, prediction)\n",
    "    precision = precision_score(y_test, prediction, average='weighted')\n",
    "    recall = recall_score(y_test, prediction, average='weighted')\n",
    "    f1 = f1_score(y_test, prediction, average='weighted')\n",
    "    return accuracy, precision, recall, f1"
   ]
  },
  {
   "attachments": {},
   "cell_type": "markdown",
   "metadata": {},
   "source": [
    "# KNN model"
   ]
  },
  {
   "attachments": {},
   "cell_type": "markdown",
   "metadata": {},
   "source": [
    "### Choosing the best k value"
   ]
  },
  {
   "cell_type": "code",
   "execution_count": 10,
   "metadata": {},
   "outputs": [
    {
     "data": {
      "image/png": "[encoded data removed]",
      "text/plain": [
       "<Figure size 640x480 with 1 Axes>"
      ]
     },
     "metadata": {},
     "output_type": "display_data"
    }
   ],
   "source": [
    "K = []\n",
    "training = []\n",
    "test = []\n",
    "scores = {}\n",
    "  \n",
    "for k in range(1, 21):\n",
    "    knn = KNeighborsClassifier(n_neighbors = k)\n",
    "    knn.fit(X_train, y_train)\n",
    "  \n",
    "    training_score = knn.score(X_train, y_train)\n",
    "    test_score = knn.score(X_test, y_test)\n",
    "    K.append(k)\n",
    "  \n",
    "    training.append(training_score)\n",
    "    test.append(test_score)\n",
    "    scores[k] = [training_score, test_score]\n",
    "    \n",
    "plt.scatter(K, training, color ='k')\n",
    "plt.scatter(K, test, color ='g')\n",
    "plt.show()"
   ]
  },
  {
   "attachments": {},
   "cell_type": "markdown",
   "metadata": {},
   "source": [
    "### Making the model"
   ]
  },
  {
   "cell_type": "code",
   "execution_count": 11,
   "metadata": {},
   "outputs": [],
   "source": [
    "# KNN classifier\n",
    "def KNN(X_train, y_train, X_test, y_test, num_neighbors):\n",
    "    \n",
    "    # create the model\n",
    "    KNN = KNeighborsClassifier(n_neighbors = num_neighbors)\n",
    "    \n",
    "    # fit the model\n",
    "    KNN.fit(X_train, y_train)\n",
    "    \n",
    "    # get the accuracy\n",
    "    test_accuracy = KNN.score(X_test, y_test)\n",
    "    train_accuracy = KNN.score(X_train, y_train)\n",
    "    \n",
    "    # predict the values\n",
    "    prediction = KNN.predict(X_test)\n",
    "    \n",
    "    return test_accuracy, train_accuracy, prediction"
   ]
  },
  {
   "cell_type": "code",
   "execution_count": 12,
   "metadata": {},
   "outputs": [
    {
     "name": "stdout",
     "output_type": "stream",
     "text": [
      "0.896 0.9446366782006921\n"
     ]
    }
   ],
   "source": [
    "KNN_test, KNN_train, KNN_prediction = KNN(X_train, y_train, X_test, y_test, 6)\n",
    "print(KNN_test, KNN_train)"
   ]
  },
  {
   "attachments": {},
   "cell_type": "markdown",
   "metadata": {},
   "source": [
    "### Evaluating the model"
   ]
  },
  {
   "cell_type": "code",
   "execution_count": 13,
   "metadata": {},
   "outputs": [],
   "source": [
    "accuracy_score, precision_score, recall_score, f1_score = Evaluate(y_test, KNN_prediction)"
   ]
  },
  {
   "cell_type": "code",
   "execution_count": 14,
   "metadata": {},
   "outputs": [
    {
     "data": {
      "text/html": [
       "<div>\n",
       "<style scoped>\n",
       "    .dataframe tbody tr th:only-of-type {\n",
       "        vertical-align: middle;\n",
       "    }\n",
       "\n",
       "    .dataframe tbody tr th {\n",
       "        vertical-align: top;\n",
       "    }\n",
       "\n",
       "    .dataframe thead th {\n",
       "        text-align: right;\n",
       "    }\n",
       "</style>\n",
       "<table border=\"1\" class=\"dataframe\">\n",
       "  <thead>\n",
       "    <tr style=\"text-align: right;\">\n",
       "      <th></th>\n",
       "      <th>Model</th>\n",
       "      <th>Accuracy</th>\n",
       "      <th>Precision</th>\n",
       "      <th>Recall</th>\n",
       "      <th>F1</th>\n",
       "    </tr>\n",
       "  </thead>\n",
       "  <tbody>\n",
       "    <tr>\n",
       "      <th>0</th>\n",
       "      <td>KNN</td>\n",
       "      <td>89.6</td>\n",
       "      <td>90.997569</td>\n",
       "      <td>89.6</td>\n",
       "      <td>89.580559</td>\n",
       "    </tr>\n",
       "  </tbody>\n",
       "</table>\n",
       "</div>"
      ],
      "text/plain": [
       "  Model  Accuracy  Precision  Recall         F1\n",
       "0   KNN      89.6  90.997569    89.6  89.580559"
      ]
     },
     "execution_count": 14,
     "metadata": {},
     "output_type": "execute_result"
    }
   ],
   "source": [
    "Scores = {\n",
    "    \"Model\":[\"KNN\"],\\\n",
    "    \"Accuracy\":[accuracy_score*100],\\\n",
    "    \"Precision\":[precision_score*100],\\\n",
    "    \"Recall\":[recall_score*100],\\\n",
    "    \"F1\":[f1_score*100]\n",
    "    }\n",
    "\n",
    "Scores=pd.DataFrame(Scores)\n",
    "Scores"
   ]
  },
  {
   "attachments": {},
   "cell_type": "markdown",
   "metadata": {},
   "source": [
    "# SVM models"
   ]
  },
  {
   "cell_type": "code",
   "execution_count": 15,
   "metadata": {},
   "outputs": [],
   "source": [
    "def SVM (X_train, y_train, X_test, y_test, kernel):\n",
    "\n",
    "    # create the model for multiclass classification\n",
    "    SVM = svm.SVC(kernel=kernel, C=1, decision_function_shape='ovo')\n",
    "    \n",
    "    # fit the model\n",
    "    SVM.fit(X_train, y_train)\n",
    "    \n",
    "    # get the accuracy\n",
    "    test_accuracy = SVM.score(X_test, y_test)\n",
    "    train_accuracy = SVM.score(X_train, y_train)\n",
    "    \n",
    "    # predict the values\n",
    "    prediction = SVM.predict(X_test)\n",
    "    \n",
    "    return test_accuracy, train_accuracy, prediction"
   ]
  },
  {
   "cell_type": "code",
   "execution_count": 16,
   "metadata": {},
   "outputs": [
    {
     "name": "stdout",
     "output_type": "stream",
     "text": [
      "0.808 0.8961937716262975\n"
     ]
    }
   ],
   "source": [
    "# SVM classifier using linear kernel\n",
    "SVM_linear_test, SVM_linear_train, SVM_linear_prediction = SVM(X_train, y_train, X_test, y_test, 'linear')\n",
    "print(SVM_linear_test, SVM_linear_train)"
   ]
  },
  {
   "cell_type": "code",
   "execution_count": 17,
   "metadata": {},
   "outputs": [
    {
     "name": "stdout",
     "output_type": "stream",
     "text": [
      "0.464 0.5467128027681661\n"
     ]
    }
   ],
   "source": [
    "# SVM classifier using RBF kernel\n",
    "SVM_rbf_test, SVM_rbf_train, SVM_rbf_prediction = SVM(X_train, y_train, X_test, y_test, 'rbf')\n",
    "print(SVM_rbf_test, SVM_rbf_train)"
   ]
  },
  {
   "cell_type": "code",
   "execution_count": 18,
   "metadata": {},
   "outputs": [
    {
     "name": "stdout",
     "output_type": "stream",
     "text": [
      "0.104 0.1453287197231834\n"
     ]
    }
   ],
   "source": [
    "# SVM classifier using sigmoid kernel\n",
    "SVM_sigmoid_test, SVM_sigmoid_train, SVM_sigmoid_prediction = SVM(X_train, y_train, X_test, y_test, 'sigmoid')\n",
    "print(SVM_sigmoid_test, SVM_sigmoid_train)"
   ]
  },
  {
   "cell_type": "code",
   "execution_count": 19,
   "metadata": {},
   "outputs": [
    {
     "name": "stdout",
     "output_type": "stream",
     "text": [
      "0.488 0.5501730103806228\n"
     ]
    }
   ],
   "source": [
    "# SVM classifier using polynomial kernel\n",
    "SVM_poly_test, SVM_poly_train, SVM_poly_prediction = SVM(X_train, y_train, X_test, y_test, 'poly')\n",
    "print(SVM_poly_test, SVM_poly_train)"
   ]
  },
  {
   "attachments": {},
   "cell_type": "markdown",
   "metadata": {},
   "source": [
    "### Evaluating the models"
   ]
  },
  {
   "cell_type": "code",
   "execution_count": 20,
   "metadata": {},
   "outputs": [
    {
     "ename": "TypeError",
     "evalue": "'numpy.float64' object is not callable",
     "output_type": "error",
     "traceback": [
      "\u001b[1;31m---------------------------------------------------------------------------\u001b[0m",
      "\u001b[1;31mTypeError\u001b[0m                                 Traceback (most recent call last)",
      "Cell \u001b[1;32mIn[20], line 1\u001b[0m\n\u001b[1;32m----> 1\u001b[0m accuracy_score_poly, precision_score_poly, recall_score_poly, f1_score_poly \u001b[39m=\u001b[39m Evaluate(y_test, SVM_poly_prediction)\n\u001b[0;32m      3\u001b[0m accuracy_score_linear, precision_score_linear, recall_score_linear, f1_score_linear \u001b[39m=\u001b[39m Evaluate(y_test, SVM_linear_prediction)\n\u001b[0;32m      5\u001b[0m accuracy_score_sigmoid, precision_score_sigmoid, recall_score_sigmoid, f1_score_sigmoid \u001b[39m=\u001b[39m Evaluate(y_test, SVM_sigmoid_prediction)\n",
      "Cell \u001b[1;32mIn[9], line 3\u001b[0m, in \u001b[0;36mEvaluate\u001b[1;34m(y_test, prediction)\u001b[0m\n\u001b[0;32m      2\u001b[0m \u001b[39mdef\u001b[39;00m \u001b[39mEvaluate\u001b[39m (y_test, prediction):\n\u001b[1;32m----> 3\u001b[0m     accuracy \u001b[39m=\u001b[39m accuracy_score(y_test, prediction)\n\u001b[0;32m      4\u001b[0m     precision \u001b[39m=\u001b[39m precision_score(y_test, prediction, average\u001b[39m=\u001b[39m\u001b[39m'\u001b[39m\u001b[39mweighted\u001b[39m\u001b[39m'\u001b[39m)\n\u001b[0;32m      5\u001b[0m     recall \u001b[39m=\u001b[39m recall_score(y_test, prediction, average\u001b[39m=\u001b[39m\u001b[39m'\u001b[39m\u001b[39mweighted\u001b[39m\u001b[39m'\u001b[39m)\n",
      "\u001b[1;31mTypeError\u001b[0m: 'numpy.float64' object is not callable"
     ]
    }
   ],
   "source": [
    "accuracy_score_poly, precision_score_poly, recall_score_poly, f1_score_poly = Evaluate(y_test, SVM_poly_prediction)\n",
    "\n",
    "accuracy_score_linear, precision_score_linear, recall_score_linear, f1_score_linear = Evaluate(y_test, SVM_linear_prediction)\n",
    "\n",
    "accuracy_score_sigmoid, precision_score_sigmoid, recall_score_sigmoid, f1_score_sigmoid = Evaluate(y_test, SVM_sigmoid_prediction)\n",
    "\n",
    "accuracy_score_rbf, precision_score_rbf, recall_score_rbf, f1_score_rbf = Evaluate(y_test, SVM_rbf_prediction)"
   ]
  },
  {
   "cell_type": "code",
   "execution_count": null,
   "metadata": {},
   "outputs": [],
   "source": [
    "Scores = {\n",
    "    \"Model\":[\"Linear SVM\",\"RBF SVM\",\"Sigmoid SVM\",\"Poly SVM\"],\\\n",
    "    \"Accuracy\":[accuracy_score_linear*100, accuracy_score_rbf*100, accuracy_score_sigmoid*100, accuracy_score_poly*100],\\\n",
    "    \"Precision\":[precision_score_linear*100, precision_score_rbf*100, precision_score_sigmoid*100, precision_score_poly*100],\\\n",
    "    \"Recall\":[recall_score_linear*100, recall_score_rbf*100, recall_score_sigmoid*100, recall_score_poly*100],\\\n",
    "    \"F1\":[f1_score_linear*100, f1_score_rbf*100, f1_score_sigmoid*100, f1_score_poly*100]\n",
    "    }\n",
    "\n",
    "Scores=pd.DataFrame(Scores)\n",
    "Scores"
   ]
  },
  {
   "cell_type": "code",
   "execution_count": 362,
   "metadata": {},
   "outputs": [],
   "source": [
    "from sklearn.datasets import load_iris\n",
    "from sklearn.model_selection import train_test_split\n",
    "\n",
    "# Load the iris dataset\n",
    "iris = load_iris()\n",
    "\n",
    "# Split the dataset into training and testing sets\n",
    "X_train, X_test, y_train, y_test = train_test_split(iris.data, iris.target, test_size=0.2, random_state=42)"
   ]
  },
  {
   "attachments": {},
   "cell_type": "markdown",
   "metadata": {},
   "source": [
    "# Logistic Regression model"
   ]
  },
  {
   "cell_type": "code",
   "execution_count": 21,
   "metadata": {},
   "outputs": [],
   "source": [
    "def Logistic_Regression (X_train, y_train, X_test, y_test):\n",
    "    # create the model\n",
    "    log_reg = LogisticRegression(multi_class='multinomial', solver='lbfgs')\n",
    "\n",
    "    # fit the model\n",
    "    log_reg.fit(X_train, y_train)\n",
    "\n",
    "    # get the accuracy\n",
    "    test_accuracy = log_reg.score(X_test, y_test)\n",
    "    train_accuracy = log_reg.score(X_train, y_train)\n",
    "\n",
    "    # predict the values\n",
    "    prediction = log_reg.predict(X_test)\n",
    "\n",
    "    return test_accuracy, train_accuracy, prediction"
   ]
  },
  {
   "cell_type": "code",
   "execution_count": 22,
   "metadata": {},
   "outputs": [
    {
     "name": "stdout",
     "output_type": "stream",
     "text": [
      "0.4 0.5674740484429066\n"
     ]
    },
    {
     "name": "stderr",
     "output_type": "stream",
     "text": [
      "c:\\Partitiion\\Pycharm_virtualenv\\lib\\site-packages\\sklearn\\linear_model\\_logistic.py:458: ConvergenceWarning: lbfgs failed to converge (status=1):\n",
      "STOP: TOTAL NO. of ITERATIONS REACHED LIMIT.\n",
      "\n",
      "Increase the number of iterations (max_iter) or scale the data as shown in:\n",
      "    https://scikit-learn.org/stable/modules/preprocessing.html\n",
      "Please also refer to the documentation for alternative solver options:\n",
      "    https://scikit-learn.org/stable/modules/linear_model.html#logistic-regression\n",
      "  n_iter_i = _check_optimize_result(\n"
     ]
    }
   ],
   "source": [
    "LOG_REG_test, LOG_REG_train, LOG_REG_prediction = Logistic_Regression(X_train, y_train, X_test, y_test)\n",
    "print(LOG_REG_test, LOG_REG_train)"
   ]
  },
  {
   "cell_type": "code",
   "execution_count": 23,
   "metadata": {},
   "outputs": [
    {
     "ename": "TypeError",
     "evalue": "'numpy.float64' object is not callable",
     "output_type": "error",
     "traceback": [
      "\u001b[1;31m---------------------------------------------------------------------------\u001b[0m",
      "\u001b[1;31mTypeError\u001b[0m                                 Traceback (most recent call last)",
      "Cell \u001b[1;32mIn[23], line 1\u001b[0m\n\u001b[1;32m----> 1\u001b[0m accuracy_score_LOG, precision_score_LOG,recall_score_LOG, f1_score_LOG  \u001b[39m=\u001b[39m Evaluate(y_test, LOG_REG_prediction)\n\u001b[0;32m      2\u001b[0m \u001b[39mprint\u001b[39m(accuracy_score_LOG, precision_score_LOG,recall_score_LOG, f1_score_LOG)\n",
      "Cell \u001b[1;32mIn[9], line 3\u001b[0m, in \u001b[0;36mEvaluate\u001b[1;34m(y_test, prediction)\u001b[0m\n\u001b[0;32m      2\u001b[0m \u001b[39mdef\u001b[39;00m \u001b[39mEvaluate\u001b[39m (y_test, prediction):\n\u001b[1;32m----> 3\u001b[0m     accuracy \u001b[39m=\u001b[39m accuracy_score(y_test, prediction)\n\u001b[0;32m      4\u001b[0m     precision \u001b[39m=\u001b[39m precision_score(y_test, prediction, average\u001b[39m=\u001b[39m\u001b[39m'\u001b[39m\u001b[39mweighted\u001b[39m\u001b[39m'\u001b[39m)\n\u001b[0;32m      5\u001b[0m     recall \u001b[39m=\u001b[39m recall_score(y_test, prediction, average\u001b[39m=\u001b[39m\u001b[39m'\u001b[39m\u001b[39mweighted\u001b[39m\u001b[39m'\u001b[39m)\n",
      "\u001b[1;31mTypeError\u001b[0m: 'numpy.float64' object is not callable"
     ]
    }
   ],
   "source": [
    "accuracy_score_LOG, precision_score_LOG,recall_score_LOG, f1_score_LOG  = Evaluate(y_test, LOG_REG_prediction)\n",
    "print(accuracy_score_LOG, precision_score_LOG,recall_score_LOG, f1_score_LOG)"
   ]
  },
  {
   "cell_type": "code",
   "execution_count": null,
   "metadata": {},
   "outputs": [],
   "source": []
  }
 ],
 "metadata": {
  "kernelspec": {
   "display_name": "Pycharm_virtualenv",
   "language": "python",
   "name": "python3"
  },
  "language_info": {
   "codemirror_mode": {
    "name": "ipython",
    "version": 3
   },
   "file_extension": ".py",
   "mimetype": "text/x-python",
   "name": "python",
   "nbconvert_exporter": "python",
   "pygments_lexer": "ipython3",
   "version": "3.9.5"
  },
  "orig_nbformat": 4
 },
 "nbformat": 4,
 "nbformat_minor": 2
}
