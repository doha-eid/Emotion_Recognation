{
 "cells": [
  {
   "cell_type": "code",
   "execution_count": 2,
   "metadata": {},
   "outputs": [],
   "source": [
    "import numpy as np\n",
    "import pandas as pd\n",
    "from sklearn.model_selection import train_test_split\n",
    "from sklearn.neighbors import KNeighborsClassifier\n",
    "import matplotlib.pyplot as plt\n",
    "from sklearn.metrics import confusion_matrix\n",
    "from sklearn import svm\n",
    "from sklearn.datasets import make_classification\n",
    "from sklearn.metrics import accuracy_score, precision_score, recall_score, f1_score"
   ]
  },
  {
   "cell_type": "code",
   "execution_count": 37,
   "metadata": {},
   "outputs": [],
   "source": [
    "#X, y = make_classification(n_samples=1000, n_features=48, n_informative=5, n_classes=9, random_state=42)"
   ]
  },
  {
   "attachments": {},
   "cell_type": "markdown",
   "metadata": {},
   "source": [
    "## Read the data"
   ]
  },
  {
   "cell_type": "code",
   "execution_count": 3,
   "metadata": {},
   "outputs": [],
   "source": [
    "# Read the data\n",
    "data = pd.read_csv('preprocessed_data.csv')"
   ]
  },
  {
   "cell_type": "code",
   "execution_count": 4,
   "metadata": {},
   "outputs": [
    {
     "data": {
      "text/html": [
       "<div>\n",
       "<style scoped>\n",
       "    .dataframe tbody tr th:only-of-type {\n",
       "        vertical-align: middle;\n",
       "    }\n",
       "\n",
       "    .dataframe tbody tr th {\n",
       "        vertical-align: top;\n",
       "    }\n",
       "\n",
       "    .dataframe thead th {\n",
       "        text-align: right;\n",
       "    }\n",
       "</style>\n",
       "<table border=\"1\" class=\"dataframe\">\n",
       "  <thead>\n",
       "    <tr style=\"text-align: right;\">\n",
       "      <th></th>\n",
       "      <th>Unnamed: 0</th>\n",
       "      <th>psdtheta_1</th>\n",
       "      <th>psdalpha_1</th>\n",
       "      <th>psdbeta_1</th>\n",
       "      <th>psdtheta_2</th>\n",
       "      <th>psdalpha_2</th>\n",
       "      <th>psdbeta_2</th>\n",
       "      <th>psdtheta_3</th>\n",
       "      <th>psdalpha_3</th>\n",
       "      <th>psdbeta_3</th>\n",
       "      <th>...</th>\n",
       "      <th>psdbeta_13</th>\n",
       "      <th>psdtheta_14</th>\n",
       "      <th>psdalpha_14</th>\n",
       "      <th>psdbeta_14</th>\n",
       "      <th>age</th>\n",
       "      <th>gender</th>\n",
       "      <th>participant</th>\n",
       "      <th>video</th>\n",
       "      <th>video_name</th>\n",
       "      <th>target</th>\n",
       "    </tr>\n",
       "  </thead>\n",
       "  <tbody>\n",
       "    <tr>\n",
       "      <th>0</th>\n",
       "      <td>0</td>\n",
       "      <td>-0.150843</td>\n",
       "      <td>-0.150624</td>\n",
       "      <td>-0.166261</td>\n",
       "      <td>-0.145117</td>\n",
       "      <td>-0.143640</td>\n",
       "      <td>-0.119170</td>\n",
       "      <td>-0.475254</td>\n",
       "      <td>-0.468150</td>\n",
       "      <td>-0.330365</td>\n",
       "      <td>...</td>\n",
       "      <td>-0.419732</td>\n",
       "      <td>-0.195563</td>\n",
       "      <td>-0.195812</td>\n",
       "      <td>-0.204449</td>\n",
       "      <td>22</td>\n",
       "      <td>0</td>\n",
       "      <td>1</td>\n",
       "      <td>1</td>\n",
       "      <td>10</td>\n",
       "      <td>7</td>\n",
       "    </tr>\n",
       "    <tr>\n",
       "      <th>1</th>\n",
       "      <td>1</td>\n",
       "      <td>-0.128521</td>\n",
       "      <td>-0.129717</td>\n",
       "      <td>-0.155580</td>\n",
       "      <td>-0.105668</td>\n",
       "      <td>-0.108871</td>\n",
       "      <td>-0.168438</td>\n",
       "      <td>0.302383</td>\n",
       "      <td>0.258150</td>\n",
       "      <td>-0.121029</td>\n",
       "      <td>...</td>\n",
       "      <td>-0.175393</td>\n",
       "      <td>-0.153317</td>\n",
       "      <td>-0.153977</td>\n",
       "      <td>-0.166154</td>\n",
       "      <td>22</td>\n",
       "      <td>0</td>\n",
       "      <td>1</td>\n",
       "      <td>2</td>\n",
       "      <td>2</td>\n",
       "      <td>0</td>\n",
       "    </tr>\n",
       "    <tr>\n",
       "      <th>2</th>\n",
       "      <td>2</td>\n",
       "      <td>-0.103209</td>\n",
       "      <td>-0.103515</td>\n",
       "      <td>-0.122637</td>\n",
       "      <td>-0.109388</td>\n",
       "      <td>-0.111235</td>\n",
       "      <td>-0.140875</td>\n",
       "      <td>0.063157</td>\n",
       "      <td>0.057745</td>\n",
       "      <td>0.006707</td>\n",
       "      <td>...</td>\n",
       "      <td>-0.117177</td>\n",
       "      <td>-0.046608</td>\n",
       "      <td>-0.046963</td>\n",
       "      <td>-0.051510</td>\n",
       "      <td>22</td>\n",
       "      <td>0</td>\n",
       "      <td>1</td>\n",
       "      <td>3</td>\n",
       "      <td>14</td>\n",
       "      <td>2</td>\n",
       "    </tr>\n",
       "    <tr>\n",
       "      <th>3</th>\n",
       "      <td>3</td>\n",
       "      <td>-0.181723</td>\n",
       "      <td>-0.184244</td>\n",
       "      <td>-0.230825</td>\n",
       "      <td>-0.113030</td>\n",
       "      <td>-0.114522</td>\n",
       "      <td>-0.139100</td>\n",
       "      <td>-0.067104</td>\n",
       "      <td>-0.068218</td>\n",
       "      <td>-0.071644</td>\n",
       "      <td>...</td>\n",
       "      <td>-0.311654</td>\n",
       "      <td>-0.150296</td>\n",
       "      <td>-0.150274</td>\n",
       "      <td>-0.153138</td>\n",
       "      <td>22</td>\n",
       "      <td>0</td>\n",
       "      <td>1</td>\n",
       "      <td>4</td>\n",
       "      <td>15</td>\n",
       "      <td>5</td>\n",
       "    </tr>\n",
       "    <tr>\n",
       "      <th>4</th>\n",
       "      <td>4</td>\n",
       "      <td>-0.043894</td>\n",
       "      <td>-0.042331</td>\n",
       "      <td>-0.032673</td>\n",
       "      <td>-0.148676</td>\n",
       "      <td>-0.152181</td>\n",
       "      <td>-0.201394</td>\n",
       "      <td>0.314590</td>\n",
       "      <td>0.301284</td>\n",
       "      <td>0.191730</td>\n",
       "      <td>...</td>\n",
       "      <td>0.125982</td>\n",
       "      <td>0.075506</td>\n",
       "      <td>0.078709</td>\n",
       "      <td>0.108396</td>\n",
       "      <td>22</td>\n",
       "      <td>0</td>\n",
       "      <td>1</td>\n",
       "      <td>5</td>\n",
       "      <td>0</td>\n",
       "      <td>1</td>\n",
       "    </tr>\n",
       "    <tr>\n",
       "      <th>...</th>\n",
       "      <td>...</td>\n",
       "      <td>...</td>\n",
       "      <td>...</td>\n",
       "      <td>...</td>\n",
       "      <td>...</td>\n",
       "      <td>...</td>\n",
       "      <td>...</td>\n",
       "      <td>...</td>\n",
       "      <td>...</td>\n",
       "      <td>...</td>\n",
       "      <td>...</td>\n",
       "      <td>...</td>\n",
       "      <td>...</td>\n",
       "      <td>...</td>\n",
       "      <td>...</td>\n",
       "      <td>...</td>\n",
       "      <td>...</td>\n",
       "      <td>...</td>\n",
       "      <td>...</td>\n",
       "      <td>...</td>\n",
       "      <td>...</td>\n",
       "    </tr>\n",
       "    <tr>\n",
       "      <th>409</th>\n",
       "      <td>409</td>\n",
       "      <td>-0.259796</td>\n",
       "      <td>-0.264659</td>\n",
       "      <td>-0.351959</td>\n",
       "      <td>-0.215325</td>\n",
       "      <td>-0.223008</td>\n",
       "      <td>-0.347720</td>\n",
       "      <td>-0.282586</td>\n",
       "      <td>-0.281040</td>\n",
       "      <td>-0.263415</td>\n",
       "      <td>...</td>\n",
       "      <td>0.063415</td>\n",
       "      <td>-0.052881</td>\n",
       "      <td>-0.052248</td>\n",
       "      <td>-0.049186</td>\n",
       "      <td>25</td>\n",
       "      <td>0</td>\n",
       "      <td>23</td>\n",
       "      <td>14</td>\n",
       "      <td>3</td>\n",
       "      <td>4</td>\n",
       "    </tr>\n",
       "    <tr>\n",
       "      <th>410</th>\n",
       "      <td>410</td>\n",
       "      <td>-0.220586</td>\n",
       "      <td>-0.227271</td>\n",
       "      <td>-0.333407</td>\n",
       "      <td>-0.083146</td>\n",
       "      <td>-0.084745</td>\n",
       "      <td>-0.115249</td>\n",
       "      <td>-0.452527</td>\n",
       "      <td>-0.461702</td>\n",
       "      <td>-0.518178</td>\n",
       "      <td>...</td>\n",
       "      <td>-0.490378</td>\n",
       "      <td>0.071075</td>\n",
       "      <td>0.065080</td>\n",
       "      <td>0.012865</td>\n",
       "      <td>25</td>\n",
       "      <td>0</td>\n",
       "      <td>23</td>\n",
       "      <td>15</td>\n",
       "      <td>8</td>\n",
       "      <td>5</td>\n",
       "    </tr>\n",
       "    <tr>\n",
       "      <th>411</th>\n",
       "      <td>411</td>\n",
       "      <td>-0.054579</td>\n",
       "      <td>-0.056091</td>\n",
       "      <td>-0.082380</td>\n",
       "      <td>0.014625</td>\n",
       "      <td>0.014887</td>\n",
       "      <td>0.025082</td>\n",
       "      <td>0.225323</td>\n",
       "      <td>0.234515</td>\n",
       "      <td>0.292967</td>\n",
       "      <td>...</td>\n",
       "      <td>-0.042684</td>\n",
       "      <td>-0.025692</td>\n",
       "      <td>-0.028928</td>\n",
       "      <td>-0.061149</td>\n",
       "      <td>25</td>\n",
       "      <td>0</td>\n",
       "      <td>23</td>\n",
       "      <td>16</td>\n",
       "      <td>11</td>\n",
       "      <td>1</td>\n",
       "    </tr>\n",
       "    <tr>\n",
       "      <th>412</th>\n",
       "      <td>412</td>\n",
       "      <td>-0.242060</td>\n",
       "      <td>-0.244057</td>\n",
       "      <td>-0.288320</td>\n",
       "      <td>-0.134908</td>\n",
       "      <td>-0.139699</td>\n",
       "      <td>-0.208673</td>\n",
       "      <td>-0.238502</td>\n",
       "      <td>-0.241715</td>\n",
       "      <td>-0.257637</td>\n",
       "      <td>...</td>\n",
       "      <td>-0.480054</td>\n",
       "      <td>-0.119080</td>\n",
       "      <td>-0.118926</td>\n",
       "      <td>-0.121816</td>\n",
       "      <td>25</td>\n",
       "      <td>0</td>\n",
       "      <td>23</td>\n",
       "      <td>17</td>\n",
       "      <td>16</td>\n",
       "      <td>8</td>\n",
       "    </tr>\n",
       "    <tr>\n",
       "      <th>413</th>\n",
       "      <td>413</td>\n",
       "      <td>-0.178965</td>\n",
       "      <td>-0.192970</td>\n",
       "      <td>-0.376876</td>\n",
       "      <td>-0.364871</td>\n",
       "      <td>-0.383741</td>\n",
       "      <td>-0.681420</td>\n",
       "      <td>-0.421094</td>\n",
       "      <td>-0.430512</td>\n",
       "      <td>-0.482601</td>\n",
       "      <td>...</td>\n",
       "      <td>-0.274331</td>\n",
       "      <td>-0.092586</td>\n",
       "      <td>-0.098181</td>\n",
       "      <td>-0.147274</td>\n",
       "      <td>25</td>\n",
       "      <td>0</td>\n",
       "      <td>23</td>\n",
       "      <td>18</td>\n",
       "      <td>12</td>\n",
       "      <td>0</td>\n",
       "    </tr>\n",
       "  </tbody>\n",
       "</table>\n",
       "<p>414 rows × 49 columns</p>\n",
       "</div>"
      ],
      "text/plain": [
       "     Unnamed: 0  psdtheta_1  psdalpha_1  psdbeta_1  psdtheta_2  psdalpha_2  \\\n",
       "0             0   -0.150843   -0.150624  -0.166261   -0.145117   -0.143640   \n",
       "1             1   -0.128521   -0.129717  -0.155580   -0.105668   -0.108871   \n",
       "2             2   -0.103209   -0.103515  -0.122637   -0.109388   -0.111235   \n",
       "3             3   -0.181723   -0.184244  -0.230825   -0.113030   -0.114522   \n",
       "4             4   -0.043894   -0.042331  -0.032673   -0.148676   -0.152181   \n",
       "..          ...         ...         ...        ...         ...         ...   \n",
       "409         409   -0.259796   -0.264659  -0.351959   -0.215325   -0.223008   \n",
       "410         410   -0.220586   -0.227271  -0.333407   -0.083146   -0.084745   \n",
       "411         411   -0.054579   -0.056091  -0.082380    0.014625    0.014887   \n",
       "412         412   -0.242060   -0.244057  -0.288320   -0.134908   -0.139699   \n",
       "413         413   -0.178965   -0.192970  -0.376876   -0.364871   -0.383741   \n",
       "\n",
       "     psdbeta_2  psdtheta_3  psdalpha_3  psdbeta_3  ...  psdbeta_13  \\\n",
       "0    -0.119170   -0.475254   -0.468150  -0.330365  ...   -0.419732   \n",
       "1    -0.168438    0.302383    0.258150  -0.121029  ...   -0.175393   \n",
       "2    -0.140875    0.063157    0.057745   0.006707  ...   -0.117177   \n",
       "3    -0.139100   -0.067104   -0.068218  -0.071644  ...   -0.311654   \n",
       "4    -0.201394    0.314590    0.301284   0.191730  ...    0.125982   \n",
       "..         ...         ...         ...        ...  ...         ...   \n",
       "409  -0.347720   -0.282586   -0.281040  -0.263415  ...    0.063415   \n",
       "410  -0.115249   -0.452527   -0.461702  -0.518178  ...   -0.490378   \n",
       "411   0.025082    0.225323    0.234515   0.292967  ...   -0.042684   \n",
       "412  -0.208673   -0.238502   -0.241715  -0.257637  ...   -0.480054   \n",
       "413  -0.681420   -0.421094   -0.430512  -0.482601  ...   -0.274331   \n",
       "\n",
       "     psdtheta_14  psdalpha_14  psdbeta_14  age  gender  participant  video  \\\n",
       "0      -0.195563    -0.195812   -0.204449   22       0            1      1   \n",
       "1      -0.153317    -0.153977   -0.166154   22       0            1      2   \n",
       "2      -0.046608    -0.046963   -0.051510   22       0            1      3   \n",
       "3      -0.150296    -0.150274   -0.153138   22       0            1      4   \n",
       "4       0.075506     0.078709    0.108396   22       0            1      5   \n",
       "..           ...          ...         ...  ...     ...          ...    ...   \n",
       "409    -0.052881    -0.052248   -0.049186   25       0           23     14   \n",
       "410     0.071075     0.065080    0.012865   25       0           23     15   \n",
       "411    -0.025692    -0.028928   -0.061149   25       0           23     16   \n",
       "412    -0.119080    -0.118926   -0.121816   25       0           23     17   \n",
       "413    -0.092586    -0.098181   -0.147274   25       0           23     18   \n",
       "\n",
       "     video_name  target  \n",
       "0            10       7  \n",
       "1             2       0  \n",
       "2            14       2  \n",
       "3            15       5  \n",
       "4             0       1  \n",
       "..          ...     ...  \n",
       "409           3       4  \n",
       "410           8       5  \n",
       "411          11       1  \n",
       "412          16       8  \n",
       "413          12       0  \n",
       "\n",
       "[414 rows x 49 columns]"
      ]
     },
     "execution_count": 4,
     "metadata": {},
     "output_type": "execute_result"
    }
   ],
   "source": [
    "data"
   ]
  },
  {
   "cell_type": "code",
   "execution_count": 6,
   "metadata": {},
   "outputs": [
    {
     "name": "stdout",
     "output_type": "stream",
     "text": [
      "<class 'pandas.core.frame.DataFrame'>\n",
      "RangeIndex: 414 entries, 0 to 413\n",
      "Data columns (total 49 columns):\n",
      " #   Column       Non-Null Count  Dtype  \n",
      "---  ------       --------------  -----  \n",
      " 0   Unnamed: 0   414 non-null    int64  \n",
      " 1   psdtheta_1   414 non-null    float64\n",
      " 2   psdalpha_1   414 non-null    float64\n",
      " 3   psdbeta_1    414 non-null    float64\n",
      " 4   psdtheta_2   414 non-null    float64\n",
      " 5   psdalpha_2   414 non-null    float64\n",
      " 6   psdbeta_2    414 non-null    float64\n",
      " 7   psdtheta_3   414 non-null    float64\n",
      " 8   psdalpha_3   414 non-null    float64\n",
      " 9   psdbeta_3    414 non-null    float64\n",
      " 10  psdtheta_4   414 non-null    float64\n",
      " 11  psdalpha_4   414 non-null    float64\n",
      " 12  psdbeta_4    414 non-null    float64\n",
      " 13  psdtheta_5   414 non-null    float64\n",
      " 14  psdalpha_5   414 non-null    float64\n",
      " 15  psdbeta_5    414 non-null    float64\n",
      " 16  psdtheta_6   414 non-null    float64\n",
      " 17  psdalpha_6   414 non-null    float64\n",
      " 18  psdbeta_6    414 non-null    float64\n",
      " 19  psdtheta_7   414 non-null    float64\n",
      " 20  psdalpha_7   414 non-null    float64\n",
      " 21  psdbeta_7    414 non-null    float64\n",
      " 22  psdtheta_8   414 non-null    float64\n",
      " 23  psdalpha_8   414 non-null    float64\n",
      " 24  psdbeta_8    414 non-null    float64\n",
      " 25  psdtheta_9   414 non-null    float64\n",
      " 26  psdalpha_9   414 non-null    float64\n",
      " 27  psdbeta_9    414 non-null    float64\n",
      " 28  psdtheta_10  414 non-null    float64\n",
      " 29  psdalpha_10  414 non-null    float64\n",
      " 30  psdbeta_10   414 non-null    float64\n",
      " 31  psdtheta_11  414 non-null    float64\n",
      " 32  psdalpha_11  414 non-null    float64\n",
      " 33  psdbeta_11   414 non-null    float64\n",
      " 34  psdtheta_12  414 non-null    float64\n",
      " 35  psdalpha_12  414 non-null    float64\n",
      " 36  psdbeta_12   414 non-null    float64\n",
      " 37  psdtheta_13  414 non-null    float64\n",
      " 38  psdalpha_13  414 non-null    float64\n",
      " 39  psdbeta_13   414 non-null    float64\n",
      " 40  psdtheta_14  414 non-null    float64\n",
      " 41  psdalpha_14  414 non-null    float64\n",
      " 42  psdbeta_14   414 non-null    float64\n",
      " 43  age          414 non-null    int64  \n",
      " 44  gender       414 non-null    int64  \n",
      " 45  participant  414 non-null    int64  \n",
      " 46  video        414 non-null    int64  \n",
      " 47  video_name   414 non-null    int64  \n",
      " 48  target       414 non-null    int64  \n",
      "dtypes: float64(42), int64(7)\n",
      "memory usage: 158.6 KB\n"
     ]
    }
   ],
   "source": [
    "data.info()"
   ]
  },
  {
   "cell_type": "code",
   "execution_count": 7,
   "metadata": {},
   "outputs": [],
   "source": [
    "y = data.target\n",
    "X = data.drop('target' , axis = 1)"
   ]
  },
  {
   "attachments": {},
   "cell_type": "markdown",
   "metadata": {},
   "source": [
    "## Splitting the data"
   ]
  },
  {
   "cell_type": "code",
   "execution_count": 38,
   "metadata": {},
   "outputs": [],
   "source": [
    "X_train, X_test, y_train, y_test = train_test_split(X, y, test_size = 0.3, random_state = 42)"
   ]
  },
  {
   "cell_type": "code",
   "execution_count": 39,
   "metadata": {},
   "outputs": [],
   "source": [
    "# Function to evaluate the model\n",
    "def Evaluate (y_test, prediction):\n",
    "    accuracy = accuracy_score(y_test, prediction)\n",
    "    precision = precision_score(y_test, prediction, average='weighted')\n",
    "    recall = recall_score(y_test, prediction, average='weighted')\n",
    "    f1 = f1_score(y_test, prediction, average='weighted')\n",
    "    return accuracy, precision, recall, f1"
   ]
  },
  {
   "attachments": {},
   "cell_type": "markdown",
   "metadata": {},
   "source": [
    "# KNN model"
   ]
  },
  {
   "attachments": {},
   "cell_type": "markdown",
   "metadata": {},
   "source": [
    "### Choosing the best k value"
   ]
  },
  {
   "cell_type": "code",
   "execution_count": 44,
   "metadata": {},
   "outputs": [
    {
     "data": {
      "image/png": "[encoded data removed]",
      "text/plain": [
       "<Figure size 640x480 with 1 Axes>"
      ]
     },
     "metadata": {},
     "output_type": "display_data"
    }
   ],
   "source": [
    "K = []\n",
    "training = []\n",
    "test = []\n",
    "scores = {}\n",
    "  \n",
    "for k in range(1, 20):\n",
    "    knn = KNeighborsClassifier(n_neighbors = k)\n",
    "    knn.fit(X_train, y_train)\n",
    "  \n",
    "    training_score = knn.score(X_train, y_train)\n",
    "    test_score = knn.score(X_test, y_test)\n",
    "    K.append(k)\n",
    "  \n",
    "    training.append(training_score)\n",
    "    test.append(test_score)\n",
    "    scores[k] = [training_score, test_score]\n",
    "    \n",
    "plt.scatter(K, training, color ='k')\n",
    "plt.scatter(K, test, color ='g')\n",
    "plt.show()"
   ]
  },
  {
   "attachments": {},
   "cell_type": "markdown",
   "metadata": {},
   "source": [
    "### Making the model"
   ]
  },
  {
   "cell_type": "code",
   "execution_count": 33,
   "metadata": {},
   "outputs": [],
   "source": [
    "#KNN classifier\n",
    "def KNN(X_train, y_train, X_test, y_test, num_neighbors):\n",
    "    \n",
    "    #create the model\n",
    "    KNN = KNeighborsClassifier(n_neighbors = num_neighbors)\n",
    "    \n",
    "    #fit the model\n",
    "    KNN.fit(X_train, y_train)\n",
    "    \n",
    "    #get the accuracy\n",
    "    test_accuracy = KNN.score(X_test, y_test)\n",
    "    train_accuracy = KNN.score(X_train, y_train)\n",
    "    \n",
    "    #predict the values\n",
    "    prediction = KNN.predict(X_test)\n",
    "    \n",
    "    return test_accuracy, train_accuracy, prediction"
   ]
  },
  {
   "cell_type": "code",
   "execution_count": 45,
   "metadata": {},
   "outputs": [
    {
     "name": "stdout",
     "output_type": "stream",
     "text": [
      "0.39666666666666667 0.5471428571428572\n"
     ]
    }
   ],
   "source": [
    "KNN_test, KNN_train, KNN_prediction = KNN(X_train, y_train, X_test, y_test, 15)\n",
    "print(KNN_test, KNN_train)"
   ]
  },
  {
   "attachments": {},
   "cell_type": "markdown",
   "metadata": {},
   "source": [
    "### Evaluating the model"
   ]
  },
  {
   "cell_type": "code",
   "execution_count": 46,
   "metadata": {},
   "outputs": [
    {
     "ename": "TypeError",
     "evalue": "'numpy.float64' object is not callable",
     "output_type": "error",
     "traceback": [
      "\u001b[1;31m---------------------------------------------------------------------------\u001b[0m",
      "\u001b[1;31mTypeError\u001b[0m                                 Traceback (most recent call last)",
      "Cell \u001b[1;32mIn[46], line 1\u001b[0m\n\u001b[1;32m----> 1\u001b[0m accuracy_score, precision_score, recall_score, f1_score \u001b[39m=\u001b[39m Evaluate(y_test, KNN_prediction)\n",
      "Cell \u001b[1;32mIn[39], line 3\u001b[0m, in \u001b[0;36mEvaluate\u001b[1;34m(y_test, prediction)\u001b[0m\n\u001b[0;32m      2\u001b[0m \u001b[39mdef\u001b[39;00m \u001b[39mEvaluate\u001b[39m (y_test, prediction):\n\u001b[1;32m----> 3\u001b[0m     accuracy \u001b[39m=\u001b[39m accuracy_score(y_test, prediction)\n\u001b[0;32m      4\u001b[0m     precision \u001b[39m=\u001b[39m precision_score(y_test, prediction, average\u001b[39m=\u001b[39m\u001b[39m'\u001b[39m\u001b[39mweighted\u001b[39m\u001b[39m'\u001b[39m)\n\u001b[0;32m      5\u001b[0m     recall \u001b[39m=\u001b[39m recall_score(y_test, prediction, average\u001b[39m=\u001b[39m\u001b[39m'\u001b[39m\u001b[39mweighted\u001b[39m\u001b[39m'\u001b[39m)\n",
      "\u001b[1;31mTypeError\u001b[0m: 'numpy.float64' object is not callable"
     ]
    }
   ],
   "source": [
    "accuracy_score, precision_score, recall_score, f1_score = Evaluate(y_test, KNN_prediction)"
   ]
  },
  {
   "cell_type": "code",
   "execution_count": 31,
   "metadata": {},
   "outputs": [
    {
     "data": {
      "text/html": [
       "<div>\n",
       "<style scoped>\n",
       "    .dataframe tbody tr th:only-of-type {\n",
       "        vertical-align: middle;\n",
       "    }\n",
       "\n",
       "    .dataframe tbody tr th {\n",
       "        vertical-align: top;\n",
       "    }\n",
       "\n",
       "    .dataframe thead th {\n",
       "        text-align: right;\n",
       "    }\n",
       "</style>\n",
       "<table border=\"1\" class=\"dataframe\">\n",
       "  <thead>\n",
       "    <tr style=\"text-align: right;\">\n",
       "      <th></th>\n",
       "      <th>Model</th>\n",
       "      <th>Accuracy</th>\n",
       "      <th>Precision</th>\n",
       "      <th>Recall</th>\n",
       "      <th>F1</th>\n",
       "    </tr>\n",
       "  </thead>\n",
       "  <tbody>\n",
       "    <tr>\n",
       "      <th>0</th>\n",
       "      <td>KNN</td>\n",
       "      <td>0.8</td>\n",
       "      <td>0.8</td>\n",
       "      <td>0.8</td>\n",
       "      <td>0.8</td>\n",
       "    </tr>\n",
       "  </tbody>\n",
       "</table>\n",
       "</div>"
      ],
      "text/plain": [
       "  Model  Accuracy  Precision  Recall   F1\n",
       "0   KNN       0.8        0.8     0.8  0.8"
      ]
     },
     "execution_count": 31,
     "metadata": {},
     "output_type": "execute_result"
    }
   ],
   "source": [
    "Scores = {\n",
    "    \"Model\":[\"KNN\"],\\\n",
    "    \"Accuracy\":[accuracy_score*100],\\\n",
    "    \"Precision\":[precision_score*100],\\\n",
    "    \"Recall\":[recall_score*100],\\\n",
    "    \"F1\":[f1_score*100]\n",
    "    }\n",
    "\n",
    "Scores=pd.DataFrame(Scores)\n",
    "Scores"
   ]
  },
  {
   "attachments": {},
   "cell_type": "markdown",
   "metadata": {},
   "source": [
    "# SVM models"
   ]
  },
  {
   "cell_type": "code",
   "execution_count": 16,
   "metadata": {},
   "outputs": [],
   "source": [
    "def SVM (X_train, y_train, X_test, y_test, kernel):\n",
    "\n",
    "    #create the model for multiclass classification\n",
    "    SVM = svm.SVC(kernel=kernel, C=1, decision_function_shape='ovo')\n",
    "    \n",
    "    #fit the model\n",
    "    SVM.fit(X_train, y_train)\n",
    "    \n",
    "    #get the accuracy\n",
    "    test_accuracy = SVM.score(X_test, y_test)\n",
    "    train_accuracy = SVM.score(X_train, y_train)\n",
    "    \n",
    "    #predict the values\n",
    "    prediction = SVM.predict(X_test)\n",
    "    \n",
    "    return test_accuracy, train_accuracy, prediction"
   ]
  },
  {
   "cell_type": "code",
   "execution_count": 17,
   "metadata": {},
   "outputs": [
    {
     "name": "stdout",
     "output_type": "stream",
     "text": [
      "0.544 0.7024221453287197\n"
     ]
    }
   ],
   "source": [
    "#SVM classifier using linear kernel\n",
    "SVM_linear_test, SVM_linear_train, SVM_linear_prediction = SVM(X_train, y_train, X_test, y_test, 'linear')\n",
    "print(SVM_linear_test, SVM_linear_train)"
   ]
  },
  {
   "cell_type": "code",
   "execution_count": 18,
   "metadata": {},
   "outputs": [
    {
     "name": "stdout",
     "output_type": "stream",
     "text": [
      "0.064 0.1314878892733564\n"
     ]
    }
   ],
   "source": [
    "#SVM classifier using RBF kernel\n",
    "SVM_rbf_test, SVM_rbf_train, SVM_rbf_prediction = SVM(X_train, y_train, X_test, y_test, 'rbf')\n",
    "print(SVM_rbf_test, SVM_rbf_train)"
   ]
  },
  {
   "cell_type": "code",
   "execution_count": 19,
   "metadata": {},
   "outputs": [
    {
     "name": "stdout",
     "output_type": "stream",
     "text": [
      "0.096 0.12110726643598616\n"
     ]
    }
   ],
   "source": [
    "#SVM classifier using sigmoid kernel\n",
    "SVM_sigmoid_test, SVM_sigmoid_train, SVM_sigmoid_prediction = SVM(X_train, y_train, X_test, y_test, 'sigmoid')\n",
    "print(SVM_sigmoid_test, SVM_sigmoid_train)"
   ]
  },
  {
   "cell_type": "code",
   "execution_count": 20,
   "metadata": {},
   "outputs": [
    {
     "name": "stdout",
     "output_type": "stream",
     "text": [
      "0.056 0.13494809688581316\n"
     ]
    }
   ],
   "source": [
    "#SVM classifier using polynomial kernel\n",
    "SVM_poly_test, SVM_poly_train, SVM_poly_prediction = SVM(X_train, y_train, X_test, y_test, 'poly')\n",
    "print(SVM_poly_test, SVM_poly_train)"
   ]
  },
  {
   "attachments": {},
   "cell_type": "markdown",
   "metadata": {},
   "source": [
    "### Evaluating the models"
   ]
  },
  {
   "cell_type": "code",
   "execution_count": 21,
   "metadata": {},
   "outputs": [
    {
     "ename": "TypeError",
     "evalue": "'numpy.float64' object is not callable",
     "output_type": "error",
     "traceback": [
      "\u001b[1;31m---------------------------------------------------------------------------\u001b[0m",
      "\u001b[1;31mTypeError\u001b[0m                                 Traceback (most recent call last)",
      "Cell \u001b[1;32mIn[21], line 1\u001b[0m\n\u001b[1;32m----> 1\u001b[0m accuracy_score_poly, precision_score_poly, recall_score_poly, f1_score_poly \u001b[39m=\u001b[39m Evaluate(y_test, SVM_poly_prediction)\n\u001b[0;32m      3\u001b[0m accuracy_score_linear, precision_score_linear, recall_score_linear, f1_score_linear \u001b[39m=\u001b[39m Evaluate(y_test, SVM_linear_prediction)\n\u001b[0;32m      5\u001b[0m accuracy_score_sigmoid, precision_score_sigmoid, recall_score_sigmoid, f1_score_sigmoid \u001b[39m=\u001b[39m Evaluate(y_test, SVM_sigmoid_prediction)\n",
      "Cell \u001b[1;32mIn[9], line 3\u001b[0m, in \u001b[0;36mEvaluate\u001b[1;34m(y_test, prediction)\u001b[0m\n\u001b[0;32m      2\u001b[0m \u001b[39mdef\u001b[39;00m \u001b[39mEvaluate\u001b[39m (y_test, prediction):\n\u001b[1;32m----> 3\u001b[0m     accuracy \u001b[39m=\u001b[39m accuracy_score(y_test, prediction)\n\u001b[0;32m      4\u001b[0m     precision \u001b[39m=\u001b[39m precision_score(y_test, prediction, average\u001b[39m=\u001b[39m\u001b[39m'\u001b[39m\u001b[39mweighted\u001b[39m\u001b[39m'\u001b[39m)\n\u001b[0;32m      5\u001b[0m     recall \u001b[39m=\u001b[39m recall_score(y_test, prediction, average\u001b[39m=\u001b[39m\u001b[39m'\u001b[39m\u001b[39mweighted\u001b[39m\u001b[39m'\u001b[39m)\n",
      "\u001b[1;31mTypeError\u001b[0m: 'numpy.float64' object is not callable"
     ]
    }
   ],
   "source": [
    "accuracy_score_poly, precision_score_poly, recall_score_poly, f1_score_poly = Evaluate(y_test, SVM_poly_prediction)\n",
    "\n",
    "accuracy_score_linear, precision_score_linear, recall_score_linear, f1_score_linear = Evaluate(y_test, SVM_linear_prediction)\n",
    "\n",
    "accuracy_score_sigmoid, precision_score_sigmoid, recall_score_sigmoid, f1_score_sigmoid = Evaluate(y_test, SVM_sigmoid_prediction)\n",
    "\n",
    "accuracy_score_rbf, precision_score_rbf, recall_score_rbf, f1_score_rbf = Evaluate(y_test, SVM_rbf_prediction)"
   ]
  },
  {
   "cell_type": "code",
   "execution_count": null,
   "metadata": {},
   "outputs": [],
   "source": [
    "Scores = {\n",
    "    \"Model\":[\"Linear SVM\",\"RBF SVM\",\"Sigmoid SVM\",\"Poly SVM\"],\\\n",
    "    \"Accuracy\":[accuracy_score_linear*100, accuracy_score_rbf*100, accuracy_score_sigmoid*100, accuracy_score_poly*100],\\\n",
    "    \"Precision\":[precision_score_linear*100, precision_score_rbf*100, precision_score_sigmoid*100, precision_score_poly*100],\\\n",
    "    \"Recall\":[recall_score_linear*100, recall_score_rbf*100, recall_score_sigmoid*100, recall_score_poly*100],\\\n",
    "    \"F1\":[f1_score_linear*100, f1_score_rbf*100, f1_score_sigmoid*100, f1_score_poly*100]\n",
    "    }\n",
    "\n",
    "Scores=pd.DataFrame(Scores)\n",
    "Scores"
   ]
  },
  {
   "cell_type": "code",
   "execution_count": null,
   "metadata": {},
   "outputs": [],
   "source": []
  }
 ],
 "metadata": {
  "kernelspec": {
   "display_name": "Pycharm_virtualenv",
   "language": "python",
   "name": "python3"
  },
  "language_info": {
   "codemirror_mode": {
    "name": "ipython",
    "version": 3
   },
   "file_extension": ".py",
   "mimetype": "text/x-python",
   "name": "python",
   "nbconvert_exporter": "python",
   "pygments_lexer": "ipython3",
   "version": "3.9.5"
  },
  "orig_nbformat": 4
 },
 "nbformat": 4,
 "nbformat_minor": 2
}
