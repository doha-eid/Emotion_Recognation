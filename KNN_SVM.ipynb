{
 "cells": [
  {
   "cell_type": "code",
   "execution_count": 365,
   "metadata": {},
   "outputs": [],
   "source": [
    "import numpy as np\n",
    "import pandas as pd\n",
    "from sklearn.model_selection import train_test_split\n",
    "from sklearn.neighbors import KNeighborsClassifier\n",
    "import matplotlib.pyplot as plt\n",
    "from sklearn.metrics import confusion_matrix\n",
    "from sklearn import svm\n",
    "from sklearn.datasets import make_classification\n",
    "from sklearn.metrics import accuracy_score, precision_score, recall_score, f1_score\n",
    "from sklearn.feature_selection import mutual_info_classif\n",
    "from sklearn.linear_model import LogisticRegression"
   ]
  },
  {
   "attachments": {},
   "cell_type": "markdown",
   "metadata": {},
   "source": [
    "## Read the data"
   ]
  },
  {
   "cell_type": "code",
   "execution_count": 366,
   "metadata": {},
   "outputs": [],
   "source": [
    "# Read the data\n",
    "data = pd.read_csv('preprocessed_EEG.csv')"
   ]
  },
  {
   "cell_type": "code",
   "execution_count": 367,
   "metadata": {},
   "outputs": [],
   "source": [
    "data.drop(['Unnamed: 0'], axis=1, inplace=True)"
   ]
  },
  {
   "cell_type": "code",
   "execution_count": 343,
   "metadata": {},
   "outputs": [
    {
     "data": {
      "text/html": [
       "<div>\n",
       "<style scoped>\n",
       "    .dataframe tbody tr th:only-of-type {\n",
       "        vertical-align: middle;\n",
       "    }\n",
       "\n",
       "    .dataframe tbody tr th {\n",
       "        vertical-align: top;\n",
       "    }\n",
       "\n",
       "    .dataframe thead th {\n",
       "        text-align: right;\n",
       "    }\n",
       "</style>\n",
       "<table border=\"1\" class=\"dataframe\">\n",
       "  <thead>\n",
       "    <tr style=\"text-align: right;\">\n",
       "      <th></th>\n",
       "      <th>psdtheta_1</th>\n",
       "      <th>psdalpha_1</th>\n",
       "      <th>psdbeta_1</th>\n",
       "      <th>psdtheta_2</th>\n",
       "      <th>psdalpha_2</th>\n",
       "      <th>psdbeta_2</th>\n",
       "      <th>psdtheta_3</th>\n",
       "      <th>psdalpha_3</th>\n",
       "      <th>psdbeta_3</th>\n",
       "      <th>psdtheta_4</th>\n",
       "      <th>...</th>\n",
       "      <th>psdbeta_13</th>\n",
       "      <th>psdtheta_14</th>\n",
       "      <th>psdalpha_14</th>\n",
       "      <th>psdbeta_14</th>\n",
       "      <th>age</th>\n",
       "      <th>gender</th>\n",
       "      <th>participant</th>\n",
       "      <th>video</th>\n",
       "      <th>video_name</th>\n",
       "      <th>target</th>\n",
       "    </tr>\n",
       "  </thead>\n",
       "  <tbody>\n",
       "    <tr>\n",
       "      <th>0</th>\n",
       "      <td>-0.150843</td>\n",
       "      <td>-0.150624</td>\n",
       "      <td>-0.166261</td>\n",
       "      <td>-0.145117</td>\n",
       "      <td>-0.143640</td>\n",
       "      <td>-0.119170</td>\n",
       "      <td>-0.475254</td>\n",
       "      <td>-0.468150</td>\n",
       "      <td>-0.330365</td>\n",
       "      <td>-0.427103</td>\n",
       "      <td>...</td>\n",
       "      <td>-0.419732</td>\n",
       "      <td>-0.195563</td>\n",
       "      <td>-0.195812</td>\n",
       "      <td>-0.204449</td>\n",
       "      <td>22</td>\n",
       "      <td>0</td>\n",
       "      <td>1</td>\n",
       "      <td>1</td>\n",
       "      <td>10</td>\n",
       "      <td>7</td>\n",
       "    </tr>\n",
       "    <tr>\n",
       "      <th>1</th>\n",
       "      <td>-0.128521</td>\n",
       "      <td>-0.129717</td>\n",
       "      <td>-0.155580</td>\n",
       "      <td>-0.105668</td>\n",
       "      <td>-0.108871</td>\n",
       "      <td>-0.168438</td>\n",
       "      <td>0.302383</td>\n",
       "      <td>0.258150</td>\n",
       "      <td>-0.121029</td>\n",
       "      <td>-0.052994</td>\n",
       "      <td>...</td>\n",
       "      <td>-0.175393</td>\n",
       "      <td>-0.153317</td>\n",
       "      <td>-0.153977</td>\n",
       "      <td>-0.166154</td>\n",
       "      <td>22</td>\n",
       "      <td>0</td>\n",
       "      <td>1</td>\n",
       "      <td>2</td>\n",
       "      <td>2</td>\n",
       "      <td>0</td>\n",
       "    </tr>\n",
       "    <tr>\n",
       "      <th>2</th>\n",
       "      <td>-0.103209</td>\n",
       "      <td>-0.103515</td>\n",
       "      <td>-0.122637</td>\n",
       "      <td>-0.109388</td>\n",
       "      <td>-0.111235</td>\n",
       "      <td>-0.140875</td>\n",
       "      <td>0.063157</td>\n",
       "      <td>0.057745</td>\n",
       "      <td>0.006707</td>\n",
       "      <td>-0.081610</td>\n",
       "      <td>...</td>\n",
       "      <td>-0.117177</td>\n",
       "      <td>-0.046608</td>\n",
       "      <td>-0.046963</td>\n",
       "      <td>-0.051510</td>\n",
       "      <td>22</td>\n",
       "      <td>0</td>\n",
       "      <td>1</td>\n",
       "      <td>3</td>\n",
       "      <td>14</td>\n",
       "      <td>2</td>\n",
       "    </tr>\n",
       "    <tr>\n",
       "      <th>3</th>\n",
       "      <td>-0.181723</td>\n",
       "      <td>-0.184244</td>\n",
       "      <td>-0.230825</td>\n",
       "      <td>-0.113030</td>\n",
       "      <td>-0.114522</td>\n",
       "      <td>-0.139100</td>\n",
       "      <td>-0.067104</td>\n",
       "      <td>-0.068218</td>\n",
       "      <td>-0.071644</td>\n",
       "      <td>-0.130311</td>\n",
       "      <td>...</td>\n",
       "      <td>-0.311654</td>\n",
       "      <td>-0.150296</td>\n",
       "      <td>-0.150274</td>\n",
       "      <td>-0.153138</td>\n",
       "      <td>22</td>\n",
       "      <td>0</td>\n",
       "      <td>1</td>\n",
       "      <td>4</td>\n",
       "      <td>15</td>\n",
       "      <td>5</td>\n",
       "    </tr>\n",
       "    <tr>\n",
       "      <th>4</th>\n",
       "      <td>-0.043894</td>\n",
       "      <td>-0.042331</td>\n",
       "      <td>-0.032673</td>\n",
       "      <td>-0.148676</td>\n",
       "      <td>-0.152181</td>\n",
       "      <td>-0.201394</td>\n",
       "      <td>0.314590</td>\n",
       "      <td>0.301284</td>\n",
       "      <td>0.191730</td>\n",
       "      <td>-0.023894</td>\n",
       "      <td>...</td>\n",
       "      <td>0.125982</td>\n",
       "      <td>0.075506</td>\n",
       "      <td>0.078709</td>\n",
       "      <td>0.108396</td>\n",
       "      <td>22</td>\n",
       "      <td>0</td>\n",
       "      <td>1</td>\n",
       "      <td>5</td>\n",
       "      <td>0</td>\n",
       "      <td>1</td>\n",
       "    </tr>\n",
       "    <tr>\n",
       "      <th>...</th>\n",
       "      <td>...</td>\n",
       "      <td>...</td>\n",
       "      <td>...</td>\n",
       "      <td>...</td>\n",
       "      <td>...</td>\n",
       "      <td>...</td>\n",
       "      <td>...</td>\n",
       "      <td>...</td>\n",
       "      <td>...</td>\n",
       "      <td>...</td>\n",
       "      <td>...</td>\n",
       "      <td>...</td>\n",
       "      <td>...</td>\n",
       "      <td>...</td>\n",
       "      <td>...</td>\n",
       "      <td>...</td>\n",
       "      <td>...</td>\n",
       "      <td>...</td>\n",
       "      <td>...</td>\n",
       "      <td>...</td>\n",
       "      <td>...</td>\n",
       "    </tr>\n",
       "    <tr>\n",
       "      <th>409</th>\n",
       "      <td>-0.259796</td>\n",
       "      <td>-0.264659</td>\n",
       "      <td>-0.351959</td>\n",
       "      <td>-0.215325</td>\n",
       "      <td>-0.223008</td>\n",
       "      <td>-0.347720</td>\n",
       "      <td>-0.282586</td>\n",
       "      <td>-0.281040</td>\n",
       "      <td>-0.263415</td>\n",
       "      <td>-0.350000</td>\n",
       "      <td>...</td>\n",
       "      <td>0.063415</td>\n",
       "      <td>-0.052881</td>\n",
       "      <td>-0.052248</td>\n",
       "      <td>-0.049186</td>\n",
       "      <td>25</td>\n",
       "      <td>0</td>\n",
       "      <td>23</td>\n",
       "      <td>14</td>\n",
       "      <td>3</td>\n",
       "      <td>4</td>\n",
       "    </tr>\n",
       "    <tr>\n",
       "      <th>410</th>\n",
       "      <td>-0.220586</td>\n",
       "      <td>-0.227271</td>\n",
       "      <td>-0.333407</td>\n",
       "      <td>-0.083146</td>\n",
       "      <td>-0.084745</td>\n",
       "      <td>-0.115249</td>\n",
       "      <td>-0.452527</td>\n",
       "      <td>-0.461702</td>\n",
       "      <td>-0.518178</td>\n",
       "      <td>-0.551788</td>\n",
       "      <td>...</td>\n",
       "      <td>-0.490378</td>\n",
       "      <td>0.071075</td>\n",
       "      <td>0.065080</td>\n",
       "      <td>0.012865</td>\n",
       "      <td>25</td>\n",
       "      <td>0</td>\n",
       "      <td>23</td>\n",
       "      <td>15</td>\n",
       "      <td>8</td>\n",
       "      <td>5</td>\n",
       "    </tr>\n",
       "    <tr>\n",
       "      <th>411</th>\n",
       "      <td>-0.054579</td>\n",
       "      <td>-0.056091</td>\n",
       "      <td>-0.082380</td>\n",
       "      <td>0.014625</td>\n",
       "      <td>0.014887</td>\n",
       "      <td>0.025082</td>\n",
       "      <td>0.225323</td>\n",
       "      <td>0.234515</td>\n",
       "      <td>0.292967</td>\n",
       "      <td>0.233246</td>\n",
       "      <td>...</td>\n",
       "      <td>-0.042684</td>\n",
       "      <td>-0.025692</td>\n",
       "      <td>-0.028928</td>\n",
       "      <td>-0.061149</td>\n",
       "      <td>25</td>\n",
       "      <td>0</td>\n",
       "      <td>23</td>\n",
       "      <td>16</td>\n",
       "      <td>11</td>\n",
       "      <td>1</td>\n",
       "    </tr>\n",
       "    <tr>\n",
       "      <th>412</th>\n",
       "      <td>-0.242060</td>\n",
       "      <td>-0.244057</td>\n",
       "      <td>-0.288320</td>\n",
       "      <td>-0.134908</td>\n",
       "      <td>-0.139699</td>\n",
       "      <td>-0.208673</td>\n",
       "      <td>-0.238502</td>\n",
       "      <td>-0.241715</td>\n",
       "      <td>-0.257637</td>\n",
       "      <td>-0.356707</td>\n",
       "      <td>...</td>\n",
       "      <td>-0.480054</td>\n",
       "      <td>-0.119080</td>\n",
       "      <td>-0.118926</td>\n",
       "      <td>-0.121816</td>\n",
       "      <td>25</td>\n",
       "      <td>0</td>\n",
       "      <td>23</td>\n",
       "      <td>17</td>\n",
       "      <td>16</td>\n",
       "      <td>8</td>\n",
       "    </tr>\n",
       "    <tr>\n",
       "      <th>413</th>\n",
       "      <td>-0.178965</td>\n",
       "      <td>-0.192970</td>\n",
       "      <td>-0.376876</td>\n",
       "      <td>-0.364871</td>\n",
       "      <td>-0.383741</td>\n",
       "      <td>-0.681420</td>\n",
       "      <td>-0.421094</td>\n",
       "      <td>-0.430512</td>\n",
       "      <td>-0.482601</td>\n",
       "      <td>-0.505587</td>\n",
       "      <td>...</td>\n",
       "      <td>-0.274331</td>\n",
       "      <td>-0.092586</td>\n",
       "      <td>-0.098181</td>\n",
       "      <td>-0.147274</td>\n",
       "      <td>25</td>\n",
       "      <td>0</td>\n",
       "      <td>23</td>\n",
       "      <td>18</td>\n",
       "      <td>12</td>\n",
       "      <td>0</td>\n",
       "    </tr>\n",
       "  </tbody>\n",
       "</table>\n",
       "<p>414 rows × 48 columns</p>\n",
       "</div>"
      ],
      "text/plain": [
       "     psdtheta_1  psdalpha_1  psdbeta_1  psdtheta_2  psdalpha_2  psdbeta_2  \\\n",
       "0     -0.150843   -0.150624  -0.166261   -0.145117   -0.143640  -0.119170   \n",
       "1     -0.128521   -0.129717  -0.155580   -0.105668   -0.108871  -0.168438   \n",
       "2     -0.103209   -0.103515  -0.122637   -0.109388   -0.111235  -0.140875   \n",
       "3     -0.181723   -0.184244  -0.230825   -0.113030   -0.114522  -0.139100   \n",
       "4     -0.043894   -0.042331  -0.032673   -0.148676   -0.152181  -0.201394   \n",
       "..          ...         ...        ...         ...         ...        ...   \n",
       "409   -0.259796   -0.264659  -0.351959   -0.215325   -0.223008  -0.347720   \n",
       "410   -0.220586   -0.227271  -0.333407   -0.083146   -0.084745  -0.115249   \n",
       "411   -0.054579   -0.056091  -0.082380    0.014625    0.014887   0.025082   \n",
       "412   -0.242060   -0.244057  -0.288320   -0.134908   -0.139699  -0.208673   \n",
       "413   -0.178965   -0.192970  -0.376876   -0.364871   -0.383741  -0.681420   \n",
       "\n",
       "     psdtheta_3  psdalpha_3  psdbeta_3  psdtheta_4  ...  psdbeta_13  \\\n",
       "0     -0.475254   -0.468150  -0.330365   -0.427103  ...   -0.419732   \n",
       "1      0.302383    0.258150  -0.121029   -0.052994  ...   -0.175393   \n",
       "2      0.063157    0.057745   0.006707   -0.081610  ...   -0.117177   \n",
       "3     -0.067104   -0.068218  -0.071644   -0.130311  ...   -0.311654   \n",
       "4      0.314590    0.301284   0.191730   -0.023894  ...    0.125982   \n",
       "..          ...         ...        ...         ...  ...         ...   \n",
       "409   -0.282586   -0.281040  -0.263415   -0.350000  ...    0.063415   \n",
       "410   -0.452527   -0.461702  -0.518178   -0.551788  ...   -0.490378   \n",
       "411    0.225323    0.234515   0.292967    0.233246  ...   -0.042684   \n",
       "412   -0.238502   -0.241715  -0.257637   -0.356707  ...   -0.480054   \n",
       "413   -0.421094   -0.430512  -0.482601   -0.505587  ...   -0.274331   \n",
       "\n",
       "     psdtheta_14  psdalpha_14  psdbeta_14  age  gender  participant  video  \\\n",
       "0      -0.195563    -0.195812   -0.204449   22       0            1      1   \n",
       "1      -0.153317    -0.153977   -0.166154   22       0            1      2   \n",
       "2      -0.046608    -0.046963   -0.051510   22       0            1      3   \n",
       "3      -0.150296    -0.150274   -0.153138   22       0            1      4   \n",
       "4       0.075506     0.078709    0.108396   22       0            1      5   \n",
       "..           ...          ...         ...  ...     ...          ...    ...   \n",
       "409    -0.052881    -0.052248   -0.049186   25       0           23     14   \n",
       "410     0.071075     0.065080    0.012865   25       0           23     15   \n",
       "411    -0.025692    -0.028928   -0.061149   25       0           23     16   \n",
       "412    -0.119080    -0.118926   -0.121816   25       0           23     17   \n",
       "413    -0.092586    -0.098181   -0.147274   25       0           23     18   \n",
       "\n",
       "     video_name  target  \n",
       "0            10       7  \n",
       "1             2       0  \n",
       "2            14       2  \n",
       "3            15       5  \n",
       "4             0       1  \n",
       "..          ...     ...  \n",
       "409           3       4  \n",
       "410           8       5  \n",
       "411          11       1  \n",
       "412          16       8  \n",
       "413          12       0  \n",
       "\n",
       "[414 rows x 48 columns]"
      ]
     },
     "execution_count": 343,
     "metadata": {},
     "output_type": "execute_result"
    }
   ],
   "source": [
    "data"
   ]
  },
  {
   "cell_type": "code",
   "execution_count": 368,
   "metadata": {},
   "outputs": [],
   "source": [
    "y = data.target\n",
    "X = data.drop('target' , axis = 1)"
   ]
  },
  {
   "attachments": {},
   "cell_type": "markdown",
   "metadata": {},
   "source": [
    "## Splitting the data"
   ]
  },
  {
   "cell_type": "code",
   "execution_count": 371,
   "metadata": {},
   "outputs": [],
   "source": [
    "X_train, X_test, y_train, y_test = train_test_split(X, y, test_size = 0.3, random_state = 42)"
   ]
  },
  {
   "cell_type": "code",
   "execution_count": 372,
   "metadata": {},
   "outputs": [],
   "source": [
    "y_test = np.array(y_test)"
   ]
  },
  {
   "cell_type": "code",
   "execution_count": 349,
   "metadata": {},
   "outputs": [],
   "source": [
    "# Function to evaluate the model\n",
    "def Evaluate (y_test, prediction):\n",
    "    accuracy = accuracy_score(y_test, prediction)\n",
    "    precision = precision_score(y_test, prediction, average='weighted')\n",
    "    recall = recall_score(y_test, prediction, average='weighted')\n",
    "    f1 = f1_score(y_test, prediction, average='weighted')\n",
    "    return accuracy, precision, recall, f1"
   ]
  },
  {
   "attachments": {},
   "cell_type": "markdown",
   "metadata": {},
   "source": [
    "# KNN model"
   ]
  },
  {
   "attachments": {},
   "cell_type": "markdown",
   "metadata": {},
   "source": [
    "### Choosing the best k value"
   ]
  },
  {
   "cell_type": "code",
   "execution_count": 350,
   "metadata": {},
   "outputs": [
    {
     "data": {
      "image/png": "[encoded data removed]",
      "text/plain": [
       "<Figure size 640x480 with 1 Axes>"
      ]
     },
     "metadata": {},
     "output_type": "display_data"
    }
   ],
   "source": [
    "K = []\n",
    "training = []\n",
    "test = []\n",
    "scores = {}\n",
    "  \n",
    "for k in range(1, 21):\n",
    "    knn = KNeighborsClassifier(n_neighbors = k)\n",
    "    knn.fit(X_train, y_train)\n",
    "  \n",
    "    training_score = knn.score(X_train, y_train)\n",
    "    test_score = knn.score(X_test, y_test)\n",
    "    K.append(k)\n",
    "  \n",
    "    training.append(training_score)\n",
    "    test.append(test_score)\n",
    "    scores[k] = [training_score, test_score]\n",
    "    \n",
    "plt.scatter(K, training, color ='k')\n",
    "plt.scatter(K, test, color ='g')\n",
    "plt.show()"
   ]
  },
  {
   "attachments": {},
   "cell_type": "markdown",
   "metadata": {},
   "source": [
    "### Making the model"
   ]
  },
  {
   "cell_type": "code",
   "execution_count": 351,
   "metadata": {},
   "outputs": [],
   "source": [
    "# KNN classifier\n",
    "def KNN(X_train, y_train, X_test, y_test, num_neighbors):\n",
    "    \n",
    "    # create the model\n",
    "    KNN = KNeighborsClassifier(n_neighbors = num_neighbors)\n",
    "    \n",
    "    # fit the model\n",
    "    KNN.fit(X_train, y_train)\n",
    "    \n",
    "    # get the accuracy\n",
    "    test_accuracy = KNN.score(X_test, y_test)\n",
    "    train_accuracy = KNN.score(X_train, y_train)\n",
    "    \n",
    "    # predict the values\n",
    "    prediction = KNN.predict(X_test)\n",
    "    \n",
    "    return test_accuracy, train_accuracy, prediction"
   ]
  },
  {
   "cell_type": "code",
   "execution_count": 352,
   "metadata": {},
   "outputs": [
    {
     "name": "stdout",
     "output_type": "stream",
     "text": [
      "0.968 0.9688581314878892\n"
     ]
    }
   ],
   "source": [
    "KNN_test, KNN_train, KNN_prediction = KNN(X_train, y_train, X_test, y_test, 12)\n",
    "print(KNN_test, KNN_train)"
   ]
  },
  {
   "attachments": {},
   "cell_type": "markdown",
   "metadata": {},
   "source": [
    "### Evaluating the model"
   ]
  },
  {
   "cell_type": "code",
   "execution_count": 353,
   "metadata": {},
   "outputs": [
    {
     "ename": "TypeError",
     "evalue": "'numpy.float64' object is not callable",
     "output_type": "error",
     "traceback": [
      "\u001b[1;31m---------------------------------------------------------------------------\u001b[0m",
      "\u001b[1;31mTypeError\u001b[0m                                 Traceback (most recent call last)",
      "Cell \u001b[1;32mIn[353], line 1\u001b[0m\n\u001b[1;32m----> 1\u001b[0m accuracy_score, precision_score, recall_score, f1_score \u001b[39m=\u001b[39m Evaluate(y_test, KNN_prediction)\n",
      "Cell \u001b[1;32mIn[349], line 3\u001b[0m, in \u001b[0;36mEvaluate\u001b[1;34m(y_test, prediction)\u001b[0m\n\u001b[0;32m      2\u001b[0m \u001b[39mdef\u001b[39;00m \u001b[39mEvaluate\u001b[39m (y_test, prediction):\n\u001b[1;32m----> 3\u001b[0m     accuracy \u001b[39m=\u001b[39m accuracy_score(y_test, prediction)\n\u001b[0;32m      4\u001b[0m     precision \u001b[39m=\u001b[39m precision_score(y_test, prediction, average\u001b[39m=\u001b[39m\u001b[39m'\u001b[39m\u001b[39mweighted\u001b[39m\u001b[39m'\u001b[39m)\n\u001b[0;32m      5\u001b[0m     recall \u001b[39m=\u001b[39m recall_score(y_test, prediction, average\u001b[39m=\u001b[39m\u001b[39m'\u001b[39m\u001b[39mweighted\u001b[39m\u001b[39m'\u001b[39m)\n",
      "\u001b[1;31mTypeError\u001b[0m: 'numpy.float64' object is not callable"
     ]
    }
   ],
   "source": [
    "accuracy_score, precision_score, recall_score, f1_score = Evaluate(y_test, KNN_prediction)"
   ]
  },
  {
   "cell_type": "code",
   "execution_count": 259,
   "metadata": {},
   "outputs": [
    {
     "ename": "TypeError",
     "evalue": "unsupported operand type(s) for *: 'function' and 'int'",
     "output_type": "error",
     "traceback": [
      "\u001b[1;31m---------------------------------------------------------------------------\u001b[0m",
      "\u001b[1;31mTypeError\u001b[0m                                 Traceback (most recent call last)",
      "Cell \u001b[1;32mIn[259], line 3\u001b[0m\n\u001b[0;32m      1\u001b[0m Scores \u001b[39m=\u001b[39m {\n\u001b[0;32m      2\u001b[0m     \u001b[39m\"\u001b[39m\u001b[39mModel\u001b[39m\u001b[39m\"\u001b[39m:[\u001b[39m\"\u001b[39m\u001b[39mKNN\u001b[39m\u001b[39m\"\u001b[39m],\\\n\u001b[1;32m----> 3\u001b[0m     \u001b[39m\"\u001b[39m\u001b[39mAccuracy\u001b[39m\u001b[39m\"\u001b[39m:[accuracy_score\u001b[39m*\u001b[39;49m\u001b[39m100\u001b[39;49m],\\\n\u001b[0;32m      4\u001b[0m     \u001b[39m\"\u001b[39m\u001b[39mPrecision\u001b[39m\u001b[39m\"\u001b[39m:[precision_score\u001b[39m*\u001b[39m\u001b[39m100\u001b[39m],\\\n\u001b[0;32m      5\u001b[0m     \u001b[39m\"\u001b[39m\u001b[39mRecall\u001b[39m\u001b[39m\"\u001b[39m:[recall_score\u001b[39m*\u001b[39m\u001b[39m100\u001b[39m],\\\n\u001b[0;32m      6\u001b[0m     \u001b[39m\"\u001b[39m\u001b[39mF1\u001b[39m\u001b[39m\"\u001b[39m:[f1_score\u001b[39m*\u001b[39m\u001b[39m100\u001b[39m]\n\u001b[0;32m      7\u001b[0m     }\n\u001b[0;32m      9\u001b[0m Scores\u001b[39m=\u001b[39mpd\u001b[39m.\u001b[39mDataFrame(Scores)\n\u001b[0;32m     10\u001b[0m Scores\n",
      "\u001b[1;31mTypeError\u001b[0m: unsupported operand type(s) for *: 'function' and 'int'"
     ]
    }
   ],
   "source": [
    "Scores = {\n",
    "    \"Model\":[\"KNN\"],\\\n",
    "    \"Accuracy\":[accuracy_score*100],\\\n",
    "    \"Precision\":[precision_score*100],\\\n",
    "    \"Recall\":[recall_score*100],\\\n",
    "    \"F1\":[f1_score*100]\n",
    "    }\n",
    "\n",
    "Scores=pd.DataFrame(Scores)\n",
    "Scores"
   ]
  },
  {
   "attachments": {},
   "cell_type": "markdown",
   "metadata": {},
   "source": [
    "# SVM models"
   ]
  },
  {
   "cell_type": "code",
   "execution_count": 354,
   "metadata": {},
   "outputs": [],
   "source": [
    "def SVM (X_train, y_train, X_test, y_test, kernel):\n",
    "\n",
    "    # create the model for multiclass classification\n",
    "    SVM = svm.SVC(kernel=kernel, C=1, decision_function_shape='ovo')\n",
    "    \n",
    "    # fit the model\n",
    "    SVM.fit(X_train, y_train)\n",
    "    \n",
    "    # get the accuracy\n",
    "    test_accuracy = SVM.score(X_test, y_test)\n",
    "    train_accuracy = SVM.score(X_train, y_train)\n",
    "    \n",
    "    # predict the values\n",
    "    prediction = SVM.predict(X_test)\n",
    "    \n",
    "    return test_accuracy, train_accuracy, prediction"
   ]
  },
  {
   "cell_type": "code",
   "execution_count": 355,
   "metadata": {},
   "outputs": [
    {
     "name": "stdout",
     "output_type": "stream",
     "text": [
      "0.568 0.6539792387543253\n"
     ]
    }
   ],
   "source": [
    "# SVM classifier using linear kernel\n",
    "SVM_linear_test, SVM_linear_train, SVM_linear_prediction = SVM(X_train, y_train, X_test, y_test, 'linear')\n",
    "print(SVM_linear_test, SVM_linear_train)"
   ]
  },
  {
   "cell_type": "code",
   "execution_count": 356,
   "metadata": {},
   "outputs": [
    {
     "name": "stdout",
     "output_type": "stream",
     "text": [
      "0.512 0.6505190311418685\n"
     ]
    }
   ],
   "source": [
    "# SVM classifier using RBF kernel\n",
    "SVM_rbf_test, SVM_rbf_train, SVM_rbf_prediction = SVM(X_train, y_train, X_test, y_test, 'rbf')\n",
    "print(SVM_rbf_test, SVM_rbf_train)"
   ]
  },
  {
   "cell_type": "code",
   "execution_count": 357,
   "metadata": {},
   "outputs": [
    {
     "name": "stdout",
     "output_type": "stream",
     "text": [
      "0.16 0.17301038062283736\n"
     ]
    }
   ],
   "source": [
    "# SVM classifier using sigmoid kernel\n",
    "SVM_sigmoid_test, SVM_sigmoid_train, SVM_sigmoid_prediction = SVM(X_train, y_train, X_test, y_test, 'sigmoid')\n",
    "print(SVM_sigmoid_test, SVM_sigmoid_train)"
   ]
  },
  {
   "cell_type": "code",
   "execution_count": 358,
   "metadata": {},
   "outputs": [
    {
     "name": "stdout",
     "output_type": "stream",
     "text": [
      "0.456 0.5363321799307958\n"
     ]
    }
   ],
   "source": [
    "# SVM classifier using polynomial kernel\n",
    "SVM_poly_test, SVM_poly_train, SVM_poly_prediction = SVM(X_train, y_train, X_test, y_test, 'poly')\n",
    "print(SVM_poly_test, SVM_poly_train)"
   ]
  },
  {
   "attachments": {},
   "cell_type": "markdown",
   "metadata": {},
   "source": [
    "### Evaluating the models"
   ]
  },
  {
   "cell_type": "code",
   "execution_count": 202,
   "metadata": {},
   "outputs": [
    {
     "ename": "TypeError",
     "evalue": "'numpy.float64' object is not callable",
     "output_type": "error",
     "traceback": [
      "\u001b[1;31m---------------------------------------------------------------------------\u001b[0m",
      "\u001b[1;31mTypeError\u001b[0m                                 Traceback (most recent call last)",
      "Cell \u001b[1;32mIn[202], line 1\u001b[0m\n\u001b[1;32m----> 1\u001b[0m accuracy_score_poly, precision_score_poly, recall_score_poly, f1_score_poly \u001b[39m=\u001b[39m Evaluate(y_test, SVM_poly_prediction)\n\u001b[0;32m      3\u001b[0m accuracy_score_linear, precision_score_linear, recall_score_linear, f1_score_linear \u001b[39m=\u001b[39m Evaluate(y_test, SVM_linear_prediction)\n\u001b[0;32m      5\u001b[0m accuracy_score_sigmoid, precision_score_sigmoid, recall_score_sigmoid, f1_score_sigmoid \u001b[39m=\u001b[39m Evaluate(y_test, SVM_sigmoid_prediction)\n",
      "Cell \u001b[1;32mIn[191], line 4\u001b[0m, in \u001b[0;36mEvaluate\u001b[1;34m(y_test, prediction)\u001b[0m\n\u001b[0;32m      2\u001b[0m \u001b[39mdef\u001b[39;00m \u001b[39mEvaluate\u001b[39m (y_test, prediction):\n\u001b[0;32m      3\u001b[0m     accuracy \u001b[39m=\u001b[39m accuracy_score(y_test, prediction)\n\u001b[1;32m----> 4\u001b[0m     precision \u001b[39m=\u001b[39m precision_score(y_test, prediction, average\u001b[39m=\u001b[39;49m\u001b[39m'\u001b[39;49m\u001b[39mweighted\u001b[39;49m\u001b[39m'\u001b[39;49m)\n\u001b[0;32m      5\u001b[0m     recall \u001b[39m=\u001b[39m recall_score(y_test, prediction, average\u001b[39m=\u001b[39m\u001b[39m'\u001b[39m\u001b[39mweighted\u001b[39m\u001b[39m'\u001b[39m)\n\u001b[0;32m      6\u001b[0m     f1 \u001b[39m=\u001b[39m f1_score(y_test, prediction, average\u001b[39m=\u001b[39m\u001b[39m'\u001b[39m\u001b[39mweighted\u001b[39m\u001b[39m'\u001b[39m)\n",
      "\u001b[1;31mTypeError\u001b[0m: 'numpy.float64' object is not callable"
     ]
    }
   ],
   "source": [
    "accuracy_score_poly, precision_score_poly, recall_score_poly, f1_score_poly = Evaluate(y_test, SVM_poly_prediction)\n",
    "\n",
    "accuracy_score_linear, precision_score_linear, recall_score_linear, f1_score_linear = Evaluate(y_test, SVM_linear_prediction)\n",
    "\n",
    "accuracy_score_sigmoid, precision_score_sigmoid, recall_score_sigmoid, f1_score_sigmoid = Evaluate(y_test, SVM_sigmoid_prediction)\n",
    "\n",
    "accuracy_score_rbf, precision_score_rbf, recall_score_rbf, f1_score_rbf = Evaluate(y_test, SVM_rbf_prediction)"
   ]
  },
  {
   "cell_type": "code",
   "execution_count": null,
   "metadata": {},
   "outputs": [],
   "source": [
    "Scores = {\n",
    "    \"Model\":[\"Linear SVM\",\"RBF SVM\",\"Sigmoid SVM\",\"Poly SVM\"],\\\n",
    "    \"Accuracy\":[accuracy_score_linear*100, accuracy_score_rbf*100, accuracy_score_sigmoid*100, accuracy_score_poly*100],\\\n",
    "    \"Precision\":[precision_score_linear*100, precision_score_rbf*100, precision_score_sigmoid*100, precision_score_poly*100],\\\n",
    "    \"Recall\":[recall_score_linear*100, recall_score_rbf*100, recall_score_sigmoid*100, recall_score_poly*100],\\\n",
    "    \"F1\":[f1_score_linear*100, f1_score_rbf*100, f1_score_sigmoid*100, f1_score_poly*100]\n",
    "    }\n",
    "\n",
    "Scores=pd.DataFrame(Scores)\n",
    "Scores"
   ]
  },
  {
   "cell_type": "code",
   "execution_count": 362,
   "metadata": {},
   "outputs": [],
   "source": [
    "from sklearn.datasets import load_iris\n",
    "from sklearn.model_selection import train_test_split\n",
    "\n",
    "# Load the iris dataset\n",
    "iris = load_iris()\n",
    "\n",
    "# Split the dataset into training and testing sets\n",
    "X_train, X_test, y_train, y_test = train_test_split(iris.data, iris.target, test_size=0.2, random_state=42)"
   ]
  },
  {
   "attachments": {},
   "cell_type": "markdown",
   "metadata": {},
   "source": [
    "# Logistic Regression model"
   ]
  },
  {
   "cell_type": "code",
   "execution_count": 373,
   "metadata": {},
   "outputs": [],
   "source": [
    "def Logistic_Regression (X_train, y_train, X_test, y_test):\n",
    "    # create the model\n",
    "    log_reg = LogisticRegression(multi_class='multinomial', solver='lbfgs')\n",
    "\n",
    "    # fit the model\n",
    "    log_reg.fit(X_train, y_train)\n",
    "\n",
    "    # get the accuracy\n",
    "    test_accuracy = log_reg.score(X_test, y_test)\n",
    "    train_accuracy = log_reg.score(X_train, y_train)\n",
    "\n",
    "    # predict the values\n",
    "    prediction = log_reg.predict(X_test)\n",
    "\n",
    "    return test_accuracy, train_accuracy, prediction"
   ]
  },
  {
   "cell_type": "code",
   "execution_count": 374,
   "metadata": {},
   "outputs": [
    {
     "name": "stdout",
     "output_type": "stream",
     "text": [
      "0.288 0.4083044982698962\n"
     ]
    },
    {
     "name": "stderr",
     "output_type": "stream",
     "text": [
      "c:\\Partitiion\\Pycharm_virtualenv\\lib\\site-packages\\sklearn\\linear_model\\_logistic.py:458: ConvergenceWarning: lbfgs failed to converge (status=1):\n",
      "STOP: TOTAL NO. of ITERATIONS REACHED LIMIT.\n",
      "\n",
      "Increase the number of iterations (max_iter) or scale the data as shown in:\n",
      "    https://scikit-learn.org/stable/modules/preprocessing.html\n",
      "Please also refer to the documentation for alternative solver options:\n",
      "    https://scikit-learn.org/stable/modules/linear_model.html#logistic-regression\n",
      "  n_iter_i = _check_optimize_result(\n"
     ]
    }
   ],
   "source": [
    "LOG_REG_test, LOG_REG_train, LOG_REG_prediction = Logistic_Regression(X_train, y_train, X_test, y_test)\n",
    "print(LOG_REG_test, LOG_REG_train)"
   ]
  },
  {
   "cell_type": "code",
   "execution_count": null,
   "metadata": {},
   "outputs": [],
   "source": [
    "LOG_REG_accuracy, LOG_REG_ = Evaluate(y_test, LOG_REG_prediction)"
   ]
  }
 ],
 "metadata": {
  "kernelspec": {
   "display_name": "Pycharm_virtualenv",
   "language": "python",
   "name": "python3"
  },
  "language_info": {
   "codemirror_mode": {
    "name": "ipython",
    "version": 3
   },
   "file_extension": ".py",
   "mimetype": "text/x-python",
   "name": "python",
   "nbconvert_exporter": "python",
   "pygments_lexer": "ipython3",
   "version": "3.9.5"
  },
  "orig_nbformat": 4
 },
 "nbformat": 4,
 "nbformat_minor": 2
}
